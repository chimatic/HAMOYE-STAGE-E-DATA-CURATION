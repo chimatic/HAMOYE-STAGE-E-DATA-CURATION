{
 "cells": [
  {
   "cell_type": "markdown",
   "metadata": {},
   "source": [
    "# WEBSCRAPING AMAZON.COM USING SELENIUM AND BEAUTIFULSOUP"
   ]
  },
  {
   "cell_type": "code",
   "execution_count": 356,
   "metadata": {},
   "outputs": [],
   "source": [
    "import pandas as pd\n",
    "import numpy as np\n",
    "import csv"
   ]
  },
  {
   "cell_type": "code",
   "execution_count": 357,
   "metadata": {},
   "outputs": [],
   "source": [
    "from bs4 import BeautifulSoup\n",
    "import requests\n",
    "from urllib.request import urlopen\n",
    "import re\n",
    "import pprint\n",
    "from selenium import webdriver"
   ]
  },
  {
   "cell_type": "code",
   "execution_count": null,
   "metadata": {},
   "outputs": [],
   "source": []
  },
  {
   "cell_type": "markdown",
   "metadata": {},
   "source": [
    "# SOCIOLOGY"
   ]
  },
  {
   "cell_type": "code",
   "execution_count": 358,
   "metadata": {},
   "outputs": [],
   "source": [
    "driver = webdriver.Chrome(executable_path=\"C://chromedriver.exe\")"
   ]
  },
  {
   "cell_type": "code",
   "execution_count": 359,
   "metadata": {},
   "outputs": [],
   "source": [
    "headers = {\"User-Agent\" : \"Mozilla/5.0 (Windows NT 10.0; WOW64) AppleWebKit/537.36 (KHTML, like Gecko) Chrome/85.0.4183.121 Safari/537.36\"}"
   ]
  },
  {
   "cell_type": "code",
   "execution_count": 360,
   "metadata": {},
   "outputs": [],
   "source": [
    "def get_url(search_term):\n",
    "    \"\"\"generate a url from search term\"\"\"\n",
    "    template = \"https://www.amazon.com/s?k=categories&i=stripbooks&rh=n%3A283155%2Cn%3A11288&s={}\"\n",
    "    search_term = search_term.replace(' ','-')\n",
    "    return template.format(search_term)"
   ]
  },
  {
   "cell_type": "code",
   "execution_count": 361,
   "metadata": {},
   "outputs": [
    {
     "name": "stdout",
     "output_type": "stream",
     "text": [
      "https://www.amazon.com/s?k=categories&i=stripbooks&rh=n%3A283155%2Cn%3A11288&s=review-rank\n"
     ]
    }
   ],
   "source": [
    "url = get_url('review rank')\n",
    "print(url)"
   ]
  },
  {
   "cell_type": "code",
   "execution_count": 362,
   "metadata": {},
   "outputs": [],
   "source": [
    "driver.get(url)"
   ]
  },
  {
   "cell_type": "markdown",
   "metadata": {},
   "source": [
    "## Extract rhe collection"
   ]
  },
  {
   "cell_type": "code",
   "execution_count": 363,
   "metadata": {},
   "outputs": [],
   "source": [
    "soup = BeautifulSoup(driver.page_source, 'html.parser')"
   ]
  },
  {
   "cell_type": "code",
   "execution_count": 364,
   "metadata": {},
   "outputs": [],
   "source": [
    "results = soup.find_all('div', {'class': 'a-section a-spacing-medium'})"
   ]
  },
  {
   "cell_type": "code",
   "execution_count": 365,
   "metadata": {},
   "outputs": [
    {
     "data": {
      "text/plain": [
       "16"
      ]
     },
     "execution_count": 365,
     "metadata": {},
     "output_type": "execute_result"
    }
   ],
   "source": [
    "len(results)"
   ]
  },
  {
   "cell_type": "markdown",
   "metadata": {},
   "source": [
    "## Prototype the record"
   ]
  },
  {
   "cell_type": "code",
   "execution_count": 443,
   "metadata": {},
   "outputs": [],
   "source": [
    "item = results[0]"
   ]
  },
  {
   "cell_type": "code",
   "execution_count": 444,
   "metadata": {},
   "outputs": [],
   "source": [
    "book_title = item.find('span', class_=\"a-size-medium a-color-base a-text-normal\")"
   ]
  },
  {
   "cell_type": "code",
   "execution_count": 445,
   "metadata": {},
   "outputs": [],
   "source": [
    "book_title = book_title.text"
   ]
  },
  {
   "cell_type": "code",
   "execution_count": 446,
   "metadata": {},
   "outputs": [
    {
     "data": {
      "text/plain": [
       "'Discrimination and Disparities'"
      ]
     },
     "execution_count": 446,
     "metadata": {},
     "output_type": "execute_result"
    }
   ],
   "source": [
    "book_title"
   ]
  },
  {
   "cell_type": "code",
   "execution_count": 447,
   "metadata": {},
   "outputs": [],
   "source": [
    "author_parent = item.find('div', class_=\"a-row a-size-base a-color-secondary\")"
   ]
  },
  {
   "cell_type": "code",
   "execution_count": 448,
   "metadata": {},
   "outputs": [],
   "source": [
    "author = author_parent.find('a', class_=\"a-size-base a-link-normal\").text.strip()"
   ]
  },
  {
   "cell_type": "code",
   "execution_count": 449,
   "metadata": {},
   "outputs": [
    {
     "data": {
      "text/plain": [
       "'Thomas Sowell'"
      ]
     },
     "execution_count": 449,
     "metadata": {},
     "output_type": "execute_result"
    }
   ],
   "source": [
    "author"
   ]
  },
  {
   "cell_type": "code",
   "execution_count": 450,
   "metadata": {},
   "outputs": [],
   "source": [
    "review_rating_parent = item.find('a', class_=\"a-popover-trigger a-declarative\")"
   ]
  },
  {
   "cell_type": "code",
   "execution_count": 451,
   "metadata": {},
   "outputs": [],
   "source": [
    "review_rating = review_rating_parent.find('i', class_=\"a-icon a-icon-star-small a-star-small-5 aok-align-bottom\").text.strip()"
   ]
  },
  {
   "cell_type": "code",
   "execution_count": 452,
   "metadata": {},
   "outputs": [
    {
     "data": {
      "text/plain": [
       "'4.9 out of 5 stars'"
      ]
     },
     "execution_count": 452,
     "metadata": {},
     "output_type": "execute_result"
    }
   ],
   "source": [
    "review_rating"
   ]
  },
  {
   "cell_type": "code",
   "execution_count": 453,
   "metadata": {},
   "outputs": [],
   "source": [
    "review_count_parent = item.find('div', class_=\"a-row a-size-small\")"
   ]
  },
  {
   "cell_type": "code",
   "execution_count": 454,
   "metadata": {},
   "outputs": [],
   "source": [
    "review_count = review_count_parent.find_all('span')[3].text.strip()"
   ]
  },
  {
   "cell_type": "code",
   "execution_count": 455,
   "metadata": {},
   "outputs": [
    {
     "data": {
      "text/plain": [
       "'997'"
      ]
     },
     "execution_count": 455,
     "metadata": {},
     "output_type": "execute_result"
    }
   ],
   "source": [
    "review_count"
   ]
  },
  {
   "cell_type": "markdown",
   "metadata": {},
   "source": [
    "## Generalise the pattern"
   ]
  },
  {
   "cell_type": "code",
   "execution_count": 456,
   "metadata": {},
   "outputs": [],
   "source": [
    "def extract_record(item):\n",
    "    \"\"\"Extract and return data from a single record\"\"\"\n",
    "    \n",
    "    # description and url\n",
    "    book_title = item.find('span', class_=\"a-size-medium a-color-base a-text-normal\")\n",
    "    book_title = book_title.text\n",
    "    \n",
    "    try:\n",
    "        # author and url\n",
    "        author_parent = item.find('div', class_=\"a-row a-size-base a-color-secondary\")\n",
    "        author = author_parent.find('a', class_=\"a-size-base a-link-normal\").text.strip()\n",
    "    except AttributeError:\n",
    "        author = 'Unspecified'\n",
    "   \n",
    "    try:\n",
    "        # review ratings\n",
    "        review_rating_parent = item.find('a', class_=\"a-popover-trigger a-declarative\")\n",
    "        review_rating = review_rating_parent.find('i', class_=\"a-icon a-icon-star-small a-star-small-5 aok-align-bottom\").text.strip()\n",
    "    except AttributeError:\n",
    "        review_rating = '0'\n",
    "    \n",
    "    try:\n",
    "        # review count\n",
    "        review_count_parent = item.find('div', class_=\"a-row a-size-small\")\n",
    "        review_count = review_count_parent.find_all('span')[3].text.strip()\n",
    "    except AttributeError:\n",
    "        review_count = '0'\n",
    "        \n",
    "    result = (book_title, author, review_rating, review_count)\n",
    "    return result"
   ]
  },
  {
   "cell_type": "code",
   "execution_count": 457,
   "metadata": {},
   "outputs": [],
   "source": [
    "records = []\n",
    "results = soup.find_all('div', {'class': 'a-section a-spacing-medium'})\n",
    "\n",
    "for item in results:\n",
    "    record = extract_record(item)\n",
    "    if record:\n",
    "        records.append(record)"
   ]
  },
  {
   "cell_type": "code",
   "execution_count": 462,
   "metadata": {},
   "outputs": [
    {
     "data": {
      "text/plain": [
       "('Rac(e)ing to Class: Confronting Poverty and Race in Schools and Classrooms',\n",
       " 'H. Richard Milner IV',\n",
       " '4.9 out of 5 stars',\n",
       " '51')"
      ]
     },
     "execution_count": 462,
     "metadata": {},
     "output_type": "execute_result"
    }
   ],
   "source": [
    "records[15]"
   ]
  },
  {
   "cell_type": "code",
   "execution_count": 459,
   "metadata": {},
   "outputs": [
    {
     "name": "stdout",
     "output_type": "stream",
     "text": [
      "Thomas Sowell\n",
      "Angela Y. Davis\n",
      "Unspecified\n",
      "Isabel Wilkerson\n",
      "Angela Y. Davis\n",
      "Unspecified\n",
      "Unspecified\n",
      "Unspecified\n",
      "Mehrsa Baradaran\n",
      "Shomari Wills\n",
      "Robert B. Reich\n",
      "Unspecified\n",
      "LedByDonkeys\n",
      "John C. Maxwell\n",
      "Thom Hartmann\n",
      "H. Richard Milner IV\n"
     ]
    }
   ],
   "source": [
    "for row in records:\n",
    "    print(row[1])"
   ]
  },
  {
   "cell_type": "markdown",
   "metadata": {},
   "source": [
    "## Getting the next page"
   ]
  },
  {
   "cell_type": "code",
   "execution_count": 460,
   "metadata": {},
   "outputs": [],
   "source": [
    "def get_url(search_term):\n",
    "    \"\"\"generate a url from search term\"\"\"\n",
    "    template = \"https://www.amazon.com/s?k=categories&i=stripbooks&rh=n%3A283155%2Cn%3A11288&s={}\"\n",
    "    search_term = search_term.replace(' ','-')\n",
    "    \n",
    "    # add term query to url\n",
    "    url = template.format(search_term)\n",
    "    \n",
    "    # add page query placeholder\n",
    "    url += '&page={}'\n",
    "    \n",
    "    return url"
   ]
  },
  {
   "cell_type": "code",
   "execution_count": 426,
   "metadata": {},
   "outputs": [
    {
     "name": "stdout",
     "output_type": "stream",
     "text": [
      "https://www.amazon.com/s?k=categories&i=stripbooks&rh=n%3A283155%2Cn%3A11288&s=review-rank\n"
     ]
    }
   ],
   "source": [
    "print(url)"
   ]
  },
  {
   "cell_type": "markdown",
   "metadata": {},
   "source": [
    "## Putting it all together"
   ]
  },
  {
   "cell_type": "code",
   "execution_count": 461,
   "metadata": {},
   "outputs": [],
   "source": [
    "#import csv\n",
    "from bs4 import BeautifulSoup\n",
    "from selenium import webdriver\n",
    "\n",
    "def get_url(search_term):\n",
    "    \"\"\"generate a url from search term\"\"\"\n",
    "    template = \"https://www.amazon.com/s?k=categories&i=stripbooks&rh=n%3A283155%2Cn%3A11288&s={}\"\n",
    "    search_term = search_term.replace(' ','-')\n",
    "    \n",
    "    # add term query to url\n",
    "    url = template.format(search_term)\n",
    "    \n",
    "    # add page query placeholder\n",
    "    url += '&page={}'  \n",
    "    \n",
    "    return url\n",
    "\n",
    "def extract_record(item):\n",
    "    \"\"\"Extract and return data from a single record\"\"\"\n",
    "    \n",
    "    # description and url\n",
    "    book_title = item.find('span', class_=\"a-size-medium a-color-base a-text-normal\")\n",
    "    book_title = book_title.text\n",
    "    \n",
    "    try:\n",
    "        # author and url\n",
    "        author_parent = item.find('div', class_=\"a-row a-size-base a-color-secondary\")\n",
    "        author = author_parent.find('a', class_=\"a-size-base a-link-normal\").text.strip()\n",
    "    except AttributeError:\n",
    "        author = 'Unspecified'\n",
    "   \n",
    "    try:\n",
    "        # review ratings\n",
    "        review_rating_parent = item.find('a', class_=\"a-popover-trigger a-declarative\")\n",
    "        review_rating = review_rating_parent.find('i', class_=\"a-icon a-icon-star-small a-star-small-5 aok-align-bottom\").text.strip()\n",
    "    except AttributeError:\n",
    "        review_rating = '0'\n",
    "    \n",
    "    try:\n",
    "        # review count\n",
    "        review_count_parent = item.find('div', class_=\"a-row a-size-small\")\n",
    "        review_count = review_count_parent.find_all('span')[3].text.strip()\n",
    "    except AttributeError:\n",
    "        review_count = '0'\n",
    "        \n",
    "    result = (book_title, author, review_rating, review_count)\n",
    "    return result\n",
    "\n",
    "\n",
    "def main(search_term): \n",
    "    \"\"\"run main program routine\"\"\"\n",
    "    driver = webdriver.Chrome(executable_path=\"C://chromedriver.exe\")\n",
    "    \n",
    "    record = []\n",
    "    \n",
    "    url = get_url(search_term)\n",
    "    \n",
    "    for page in range(2, 76):\n",
    "        driver.get(url.format(page))\n",
    "        soup = BeautifulSoup(driver.page_source, 'html.parser')\n",
    "        results = soup.find_all('div', {'class': 'a-section a-spacing-medium'})\n",
    "        \n",
    "        for item in results:\n",
    "            record = extract_record(item)\n",
    "            if record:    \n",
    "                records.append(record)\n",
    "                \n",
    "    driver.close()\n",
    "    # save the data to csv file\n",
    "    with open('subs_sociology.csv', 'w', encoding='utf-8') as f:\n",
    "        writer = csv.writer(f)\n",
    "        writer.writerow(['Book Title', 'Author', 'Review Rating', 'Review Count'])\n",
    "        writer.writerows(records)"
   ]
  },
  {
   "cell_type": "code",
   "execution_count": 464,
   "metadata": {},
   "outputs": [],
   "source": [
    "main('review rank')"
   ]
  },
  {
   "cell_type": "code",
   "execution_count": 466,
   "metadata": {},
   "outputs": [],
   "source": [
    "sociology = pd.read_csv('sub_sociology.csv')"
   ]
  },
  {
   "cell_type": "code",
   "execution_count": 467,
   "metadata": {
    "scrolled": true
   },
   "outputs": [
    {
     "data": {
      "text/html": [
       "<div>\n",
       "<style scoped>\n",
       "    .dataframe tbody tr th:only-of-type {\n",
       "        vertical-align: middle;\n",
       "    }\n",
       "\n",
       "    .dataframe tbody tr th {\n",
       "        vertical-align: top;\n",
       "    }\n",
       "\n",
       "    .dataframe thead th {\n",
       "        text-align: right;\n",
       "    }\n",
       "</style>\n",
       "<table border=\"1\" class=\"dataframe\">\n",
       "  <thead>\n",
       "    <tr style=\"text-align: right;\">\n",
       "      <th></th>\n",
       "      <th>Book Title</th>\n",
       "      <th>Author</th>\n",
       "      <th>Review Rating</th>\n",
       "      <th>Review Count</th>\n",
       "    </tr>\n",
       "  </thead>\n",
       "  <tbody>\n",
       "    <tr>\n",
       "      <th>0</th>\n",
       "      <td>Discrimination and Disparities</td>\n",
       "      <td>Thomas Sowell</td>\n",
       "      <td>4.9 out of 5 stars</td>\n",
       "      <td>997</td>\n",
       "    </tr>\n",
       "    <tr>\n",
       "      <th>1</th>\n",
       "      <td>Women, Race &amp; Class</td>\n",
       "      <td>Angela Y. Davis</td>\n",
       "      <td>4.9 out of 5 stars</td>\n",
       "      <td>683</td>\n",
       "    </tr>\n",
       "    <tr>\n",
       "      <th>2</th>\n",
       "      <td>I See You: How Love Opens Our Eyes to Invisibl...</td>\n",
       "      <td>Unspecified</td>\n",
       "      <td>4.9 out of 5 stars</td>\n",
       "      <td>75</td>\n",
       "    </tr>\n",
       "    <tr>\n",
       "      <th>3</th>\n",
       "      <td>Caste (Oprah's Book Club): The Origins of Our ...</td>\n",
       "      <td>Isabel Wilkerson</td>\n",
       "      <td>4.8 out of 5 stars</td>\n",
       "      <td>5,708</td>\n",
       "    </tr>\n",
       "    <tr>\n",
       "      <th>4</th>\n",
       "      <td>The Meaning of Freedom: And Other Difficult Di...</td>\n",
       "      <td>Angela Y. Davis</td>\n",
       "      <td>4.9 out of 5 stars</td>\n",
       "      <td>71</td>\n",
       "    </tr>\n",
       "    <tr>\n",
       "      <th>...</th>\n",
       "      <td>...</td>\n",
       "      <td>...</td>\n",
       "      <td>...</td>\n",
       "      <td>...</td>\n",
       "    </tr>\n",
       "    <tr>\n",
       "      <th>1195</th>\n",
       "      <td>Only The Strongest Women Become Social Workers...</td>\n",
       "      <td>Claire Shepherd</td>\n",
       "      <td>5.0 out of 5 stars</td>\n",
       "      <td>3</td>\n",
       "    </tr>\n",
       "    <tr>\n",
       "      <th>1196</th>\n",
       "      <td>Who Is the First-Class Ghanaian?: A Story of T...</td>\n",
       "      <td>Unspecified</td>\n",
       "      <td>5.0 out of 5 stars</td>\n",
       "      <td>3</td>\n",
       "    </tr>\n",
       "    <tr>\n",
       "      <th>1197</th>\n",
       "      <td>LA JIBARITA (Spanish Edition)</td>\n",
       "      <td>Unspecified</td>\n",
       "      <td>5.0 out of 5 stars</td>\n",
       "      <td>3</td>\n",
       "    </tr>\n",
       "    <tr>\n",
       "      <th>1198</th>\n",
       "      <td>Max Weber: The Lawyer as Social Thinker (Key S...</td>\n",
       "      <td>Frank Parkin</td>\n",
       "      <td>5.0 out of 5 stars</td>\n",
       "      <td>3</td>\n",
       "    </tr>\n",
       "    <tr>\n",
       "      <th>1199</th>\n",
       "      <td>Black Bourgeoisie The Rise of a New Middle Cla...</td>\n",
       "      <td>Unspecified</td>\n",
       "      <td>5.0 out of 5 stars</td>\n",
       "      <td>3</td>\n",
       "    </tr>\n",
       "  </tbody>\n",
       "</table>\n",
       "<p>1200 rows × 4 columns</p>\n",
       "</div>"
      ],
      "text/plain": [
       "                                             Book Title            Author  \\\n",
       "0                        Discrimination and Disparities     Thomas Sowell   \n",
       "1                                   Women, Race & Class   Angela Y. Davis   \n",
       "2     I See You: How Love Opens Our Eyes to Invisibl...       Unspecified   \n",
       "3     Caste (Oprah's Book Club): The Origins of Our ...  Isabel Wilkerson   \n",
       "4     The Meaning of Freedom: And Other Difficult Di...   Angela Y. Davis   \n",
       "...                                                 ...               ...   \n",
       "1195  Only The Strongest Women Become Social Workers...   Claire Shepherd   \n",
       "1196  Who Is the First-Class Ghanaian?: A Story of T...       Unspecified   \n",
       "1197                      LA JIBARITA (Spanish Edition)       Unspecified   \n",
       "1198  Max Weber: The Lawyer as Social Thinker (Key S...      Frank Parkin   \n",
       "1199  Black Bourgeoisie The Rise of a New Middle Cla...       Unspecified   \n",
       "\n",
       "           Review Rating Review Count  \n",
       "0     4.9 out of 5 stars          997  \n",
       "1     4.9 out of 5 stars          683  \n",
       "2     4.9 out of 5 stars           75  \n",
       "3     4.8 out of 5 stars        5,708  \n",
       "4     4.9 out of 5 stars           71  \n",
       "...                  ...          ...  \n",
       "1195  5.0 out of 5 stars            3  \n",
       "1196  5.0 out of 5 stars            3  \n",
       "1197  5.0 out of 5 stars            3  \n",
       "1198  5.0 out of 5 stars            3  \n",
       "1199  5.0 out of 5 stars            3  \n",
       "\n",
       "[1200 rows x 4 columns]"
      ]
     },
     "execution_count": 467,
     "metadata": {},
     "output_type": "execute_result"
    }
   ],
   "source": [
    "sociology"
   ]
  },
  {
   "cell_type": "code",
   "execution_count": null,
   "metadata": {},
   "outputs": [],
   "source": []
  },
  {
   "cell_type": "markdown",
   "metadata": {},
   "source": [
    "# LITERATURE"
   ]
  },
  {
   "cell_type": "code",
   "execution_count": 599,
   "metadata": {},
   "outputs": [],
   "source": [
    "driver = webdriver.Chrome(executable_path=\"C://chromedriver.exe\")"
   ]
  },
  {
   "cell_type": "code",
   "execution_count": 602,
   "metadata": {},
   "outputs": [],
   "source": [
    "def get_url(search_term):\n",
    "    \"\"\"generate a url from search term\"\"\"\n",
    "    template = \"https://www.amazon.com/s?k=categories&i=stripbooks&rh=n%3A283155%2Cn%3A17&s={}&qid=1602588965&ref=sr_pg_1\"\n",
    "    search_term = search_term.replace(' ','-')\n",
    "    return template.format(search_term)"
   ]
  },
  {
   "cell_type": "code",
   "execution_count": 603,
   "metadata": {},
   "outputs": [
    {
     "name": "stdout",
     "output_type": "stream",
     "text": [
      "https://www.amazon.com/s?k=categories&i=stripbooks&rh=n%3A283155%2Cn%3A17&s=review-rank&qid=1602588965&ref=sr_pg_1\n"
     ]
    }
   ],
   "source": [
    "url1 = get_url('review rank')\n",
    "print(url1)"
   ]
  },
  {
   "cell_type": "code",
   "execution_count": 604,
   "metadata": {},
   "outputs": [],
   "source": [
    "driver.get(url1)"
   ]
  },
  {
   "cell_type": "code",
   "execution_count": 605,
   "metadata": {},
   "outputs": [],
   "source": [
    "soup1 = BeautifulSoup(driver.page_source, 'html.parser')"
   ]
  },
  {
   "cell_type": "code",
   "execution_count": 606,
   "metadata": {},
   "outputs": [],
   "source": [
    "results1 = soup1.find_all('div', {'class': 'a-section a-spacing-medium'})"
   ]
  },
  {
   "cell_type": "code",
   "execution_count": 607,
   "metadata": {},
   "outputs": [
    {
     "data": {
      "text/plain": [
       "16"
      ]
     },
     "execution_count": 607,
     "metadata": {},
     "output_type": "execute_result"
    }
   ],
   "source": [
    "len(results1)"
   ]
  },
  {
   "cell_type": "code",
   "execution_count": 608,
   "metadata": {},
   "outputs": [],
   "source": [
    "item1 = results1[0]"
   ]
  },
  {
   "cell_type": "code",
   "execution_count": 609,
   "metadata": {},
   "outputs": [],
   "source": [
    "book_title1 = item1.find('span', class_=\"a-size-medium a-color-base a-text-normal\")"
   ]
  },
  {
   "cell_type": "code",
   "execution_count": 610,
   "metadata": {},
   "outputs": [],
   "source": [
    "book_title1 = book_title1.text"
   ]
  },
  {
   "cell_type": "code",
   "execution_count": 611,
   "metadata": {},
   "outputs": [
    {
     "data": {
      "text/plain": [
       "'Manga in Theory and Practice: The Craft of Creating Manga'"
      ]
     },
     "execution_count": 611,
     "metadata": {},
     "output_type": "execute_result"
    }
   ],
   "source": [
    "book_title1"
   ]
  },
  {
   "cell_type": "code",
   "execution_count": 612,
   "metadata": {},
   "outputs": [],
   "source": [
    "author_parent1 = item1.find('div', class_=\"a-row a-size-base a-color-secondary\")"
   ]
  },
  {
   "cell_type": "code",
   "execution_count": 613,
   "metadata": {},
   "outputs": [],
   "source": [
    "author1 = author_parent1.find('a', class_=\"a-size-base a-link-normal\").text.strip()"
   ]
  },
  {
   "cell_type": "code",
   "execution_count": 614,
   "metadata": {},
   "outputs": [
    {
     "data": {
      "text/plain": [
       "'Hirohiko Araki'"
      ]
     },
     "execution_count": 614,
     "metadata": {},
     "output_type": "execute_result"
    }
   ],
   "source": [
    "author1"
   ]
  },
  {
   "cell_type": "code",
   "execution_count": 615,
   "metadata": {},
   "outputs": [],
   "source": [
    "review_rating_parent1 = item1.find('a', class_=\"a-popover-trigger a-declarative\")"
   ]
  },
  {
   "cell_type": "code",
   "execution_count": 616,
   "metadata": {},
   "outputs": [],
   "source": [
    "review_rating1 = review_rating_parent1.find('i', class_=\"a-icon a-icon-star-small a-star-small-5 aok-align-bottom\").text.strip()"
   ]
  },
  {
   "cell_type": "code",
   "execution_count": 617,
   "metadata": {},
   "outputs": [
    {
     "data": {
      "text/plain": [
       "'4.9 out of 5 stars'"
      ]
     },
     "execution_count": 617,
     "metadata": {},
     "output_type": "execute_result"
    }
   ],
   "source": [
    "review_rating1"
   ]
  },
  {
   "cell_type": "code",
   "execution_count": 618,
   "metadata": {},
   "outputs": [],
   "source": [
    "review_count_parent1 = item1.find('div', class_=\"a-row a-size-small\")"
   ]
  },
  {
   "cell_type": "code",
   "execution_count": 619,
   "metadata": {},
   "outputs": [],
   "source": [
    "review_count1 = review_count_parent1.find_all('span')[3].text.strip()"
   ]
  },
  {
   "cell_type": "code",
   "execution_count": 620,
   "metadata": {},
   "outputs": [
    {
     "data": {
      "text/plain": [
       "'733'"
      ]
     },
     "execution_count": 620,
     "metadata": {},
     "output_type": "execute_result"
    }
   ],
   "source": [
    "review_count1"
   ]
  },
  {
   "cell_type": "code",
   "execution_count": 621,
   "metadata": {},
   "outputs": [],
   "source": [
    "def extract_record(item1):\n",
    "    \"\"\"Extract and return data from a single record\"\"\"\n",
    "    \n",
    "    # description and url\n",
    "    book_title1 = item1.find('span', class_=\"a-size-medium a-color-base a-text-normal\")\n",
    "    book_title1 = book_title1.text\n",
    "    \n",
    "    try:\n",
    "        # author and url\n",
    "        author_parent1 = item1.find('div', class_=\"a-row a-size-base a-color-secondary\")\n",
    "        author1 = author_parent1.find('a', class_=\"a-size-base a-link-normal\").text.strip()\n",
    "    except AttributeError:\n",
    "        author1 = 'Unspecified'\n",
    "   \n",
    "    try:\n",
    "        # review ratings\n",
    "        review_rating_parent1 = item1.find('a', class_=\"a-popover-trigger a-declarative\")\n",
    "        review_rating1 = review_rating_parent1.find('i', class_=\"a-icon a-icon-star-small a-star-small-5 aok-align-bottom\").text.strip()\n",
    "    except AttributeError:\n",
    "        review_rating1 = '0'\n",
    "    \n",
    "    try:\n",
    "        # review count\n",
    "        review_count_parent1 = item1.find('div', class_=\"a-row a-size-small\")\n",
    "        review_count1 = review_count_parent1.find_all('span')[3].text.strip()\n",
    "    except AttributeError:\n",
    "        review_count1 = '0'\n",
    "        \n",
    "    result1 = (book_title1, author1, review_rating1, review_count1)\n",
    "    return result1"
   ]
  },
  {
   "cell_type": "code",
   "execution_count": 622,
   "metadata": {},
   "outputs": [],
   "source": [
    "records1 = []\n",
    "results1 = soup1.find_all('div', {'class': 'a-section a-spacing-medium'})\n",
    "\n",
    "for item1 in results1:\n",
    "    record1 = extract_record(item1)\n",
    "    if record1:\n",
    "        records1.append(record1)"
   ]
  },
  {
   "cell_type": "code",
   "execution_count": 623,
   "metadata": {
    "scrolled": false
   },
   "outputs": [
    {
     "data": {
      "text/plain": [
       "('Manga in Theory and Practice: The Craft of Creating Manga',\n",
       " 'Hirohiko Araki',\n",
       " '4.9 out of 5 stars',\n",
       " '733')"
      ]
     },
     "execution_count": 623,
     "metadata": {},
     "output_type": "execute_result"
    }
   ],
   "source": [
    "records1[0]"
   ]
  },
  {
   "cell_type": "code",
   "execution_count": 624,
   "metadata": {
    "scrolled": true
   },
   "outputs": [
    {
     "name": "stdout",
     "output_type": "stream",
     "text": [
      "Hirohiko Araki\n",
      "Liza K Womack\n",
      "Wanda E. Brunstetter\n",
      "Stephanie Nicole Norris\n",
      "Ross Patterson\n",
      "Katie Fox\n",
      "B. Love\n",
      "Rick Remender\n",
      "Robin Patchen\n",
      "Rick Kirkman\n",
      "DJ COLBERT\n",
      "Brandilyn Collins\n",
      "Bernard Lee DeLeo\n",
      "Rick Kirkman\n",
      "James H. Drescher\n",
      "Kathryn Stockett\n"
     ]
    }
   ],
   "source": [
    "for row in records1:\n",
    "    print(row[1])"
   ]
  },
  {
   "cell_type": "code",
   "execution_count": 625,
   "metadata": {},
   "outputs": [],
   "source": [
    "def get_url(search_term):\n",
    "    \"\"\"generate a url from search term\"\"\"\n",
    "    template = \"https://www.amazon.com/s?k=categories&i=stripbooks&rh=n%3A283155%2Cn%3A17&s={}&qid=1602588965&ref=sr_pg_1\"\n",
    "    search_term = search_term.replace(' ','-')\n",
    "    \n",
    "    # add term query to url\n",
    "    url = template.format(search_term)\n",
    "    \n",
    "    # add page query placeholder\n",
    "    url += '&page={}'  \n",
    "    \n",
    "    return url"
   ]
  },
  {
   "cell_type": "code",
   "execution_count": 630,
   "metadata": {},
   "outputs": [],
   "source": [
    "#import csv\n",
    "from bs4 import BeautifulSoup\n",
    "from selenium import webdriver\n",
    "\n",
    "def get_url(search_term):\n",
    "    \"\"\"generate a url from search term\"\"\"\n",
    "    template = \"https://www.amazon.com/s?k=categories&i=stripbooks&rh=n%3A283155%2Cn%3A17&s={}&qid=1602588965&ref=sr_pg_1\"\n",
    "    search_term = search_term.replace(' ','-')\n",
    "    \n",
    "    # add term query to url\n",
    "    url = template.format(search_term)\n",
    "    \n",
    "    # add page query placeholder\n",
    "    url += '&page={}'  \n",
    "    \n",
    "    return url\n",
    "\n",
    "def extract_record(item1):\n",
    "    \"\"\"Extract and return data from a single record\"\"\"\n",
    "    \n",
    "    # description and url\n",
    "    book_title1 = item1.find('span', class_=\"a-size-medium a-color-base a-text-normal\")\n",
    "    book_title1 = book_title1.text\n",
    "    \n",
    "    try:\n",
    "        # author and url\n",
    "        author_parent1 = item1.find('div', class_=\"a-row a-size-base a-color-secondary\")\n",
    "        author1 = author_parent1.find('a', class_=\"a-size-base a-link-normal\").text.strip()\n",
    "    except AttributeError:\n",
    "        author1 = 'Unspecified'\n",
    "   \n",
    "    try:\n",
    "        # review ratings\n",
    "        review_rating_parent1 = item1.find('a', class_=\"a-popover-trigger a-declarative\")\n",
    "        review_rating1 = review_rating_parent1.find('i', class_=\"a-icon a-icon-star-small a-star-small-5 aok-align-bottom\").text.strip()\n",
    "    except AttributeError:\n",
    "        review_rating1 = '0'\n",
    "    \n",
    "    try:\n",
    "        # review count\n",
    "        review_count_parent1 = item1.find('div', class_=\"a-row a-size-small\")\n",
    "        review_count1 = review_count_parent1.find_all('span')[3].text.strip()\n",
    "    except AttributeError:\n",
    "        review_count1 = '0'\n",
    "        \n",
    "    result1 = (book_title1, author1, review_rating1, review_count1)\n",
    "    return result1\n",
    "\n",
    "def main1(search_term): \n",
    "    \"\"\"run main program routine\"\"\"\n",
    "    driver = webdriver.Chrome(executable_path=\"C://chromedriver.exe\")\n",
    "    \n",
    "    record1 = []\n",
    "    \n",
    "    url1 = get_url(search_term)\n",
    "    \n",
    "    for page in range(2, 76):\n",
    "        driver.get(url1.format(page))\n",
    "        soup1 = BeautifulSoup(driver.page_source, 'html.parser')\n",
    "        results1 = soup1.find_all('div', {'class': 'a-section a-spacing-medium'})\n",
    "        \n",
    "        for item1 in results1:\n",
    "            record1 = extract_record(item1)\n",
    "            if record1:    \n",
    "                records1.append(record1)\n",
    "                \n",
    "    driver.close()\n",
    "    # save the data to csv file\n",
    "    with open('LitFiction.csv', 'w', encoding='utf-8') as f:\n",
    "        writer = csv.writer(f)\n",
    "        writer.writerow(['Book Title', 'Author', 'Review Rating', 'Review Count'])\n",
    "        writer.writerows(records1)"
   ]
  },
  {
   "cell_type": "code",
   "execution_count": 631,
   "metadata": {},
   "outputs": [],
   "source": [
    "main1('review rank')"
   ]
  },
  {
   "cell_type": "code",
   "execution_count": 633,
   "metadata": {},
   "outputs": [],
   "source": [
    "lit_fiction = pd.read_csv('LitFiction.csv')"
   ]
  },
  {
   "cell_type": "code",
   "execution_count": 634,
   "metadata": {},
   "outputs": [
    {
     "data": {
      "text/html": [
       "<div>\n",
       "<style scoped>\n",
       "    .dataframe tbody tr th:only-of-type {\n",
       "        vertical-align: middle;\n",
       "    }\n",
       "\n",
       "    .dataframe tbody tr th {\n",
       "        vertical-align: top;\n",
       "    }\n",
       "\n",
       "    .dataframe thead th {\n",
       "        text-align: right;\n",
       "    }\n",
       "</style>\n",
       "<table border=\"1\" class=\"dataframe\">\n",
       "  <thead>\n",
       "    <tr style=\"text-align: right;\">\n",
       "      <th></th>\n",
       "      <th>Book Title</th>\n",
       "      <th>Author</th>\n",
       "      <th>Review Rating</th>\n",
       "      <th>Review Count</th>\n",
       "    </tr>\n",
       "  </thead>\n",
       "  <tbody>\n",
       "    <tr>\n",
       "      <th>0</th>\n",
       "      <td>Manga in Theory and Practice: The Craft of Cre...</td>\n",
       "      <td>Hirohiko Araki</td>\n",
       "      <td>4.9 out of 5 stars</td>\n",
       "      <td>733</td>\n",
       "    </tr>\n",
       "    <tr>\n",
       "      <th>1</th>\n",
       "      <td>The Dance Class: Book One in the series: Mama ...</td>\n",
       "      <td>Liza K Womack</td>\n",
       "      <td>4.9 out of 5 stars</td>\n",
       "      <td>289</td>\n",
       "    </tr>\n",
       "    <tr>\n",
       "      <th>2</th>\n",
       "      <td>Amish Cooking Class - The Blessing</td>\n",
       "      <td>Wanda E. Brunstetter</td>\n",
       "      <td>4.9 out of 5 stars</td>\n",
       "      <td>247</td>\n",
       "    </tr>\n",
       "    <tr>\n",
       "      <th>3</th>\n",
       "      <td>The Sweetest Surrender (Falling For A Rose Boo...</td>\n",
       "      <td>Stephanie Nicole Norris</td>\n",
       "      <td>4.9 out of 5 stars</td>\n",
       "      <td>186</td>\n",
       "    </tr>\n",
       "    <tr>\n",
       "      <th>4</th>\n",
       "      <td>When Darkness Falls, He Doesn't Catch It</td>\n",
       "      <td>Ross Patterson</td>\n",
       "      <td>4.9 out of 5 stars</td>\n",
       "      <td>146</td>\n",
       "    </tr>\n",
       "    <tr>\n",
       "      <th>...</th>\n",
       "      <td>...</td>\n",
       "      <td>...</td>\n",
       "      <td>...</td>\n",
       "      <td>...</td>\n",
       "    </tr>\n",
       "    <tr>\n",
       "      <th>1227</th>\n",
       "      <td>The Sub-American Dream</td>\n",
       "      <td>Unspecified</td>\n",
       "      <td>5.0 out of 5 stars</td>\n",
       "      <td>7</td>\n",
       "    </tr>\n",
       "    <tr>\n",
       "      <th>1228</th>\n",
       "      <td>Orange Sun</td>\n",
       "      <td>Gerald A. Loeb</td>\n",
       "      <td>5.0 out of 5 stars</td>\n",
       "      <td>7</td>\n",
       "    </tr>\n",
       "    <tr>\n",
       "      <th>1229</th>\n",
       "      <td>Life Is Unfinished Without the Language of Poetry</td>\n",
       "      <td>Unspecified</td>\n",
       "      <td>5.0 out of 5 stars</td>\n",
       "      <td>7</td>\n",
       "    </tr>\n",
       "    <tr>\n",
       "      <th>1230</th>\n",
       "      <td>There Is Only Lampyridae</td>\n",
       "      <td>Unspecified</td>\n",
       "      <td>5.0 out of 5 stars</td>\n",
       "      <td>7</td>\n",
       "    </tr>\n",
       "    <tr>\n",
       "      <th>1231</th>\n",
       "      <td>Class (Crossroads Poetry)</td>\n",
       "      <td>Unspecified</td>\n",
       "      <td>5.0 out of 5 stars</td>\n",
       "      <td>7</td>\n",
       "    </tr>\n",
       "  </tbody>\n",
       "</table>\n",
       "<p>1232 rows × 4 columns</p>\n",
       "</div>"
      ],
      "text/plain": [
       "                                             Book Title  \\\n",
       "0     Manga in Theory and Practice: The Craft of Cre...   \n",
       "1     The Dance Class: Book One in the series: Mama ...   \n",
       "2                    Amish Cooking Class - The Blessing   \n",
       "3     The Sweetest Surrender (Falling For A Rose Boo...   \n",
       "4              When Darkness Falls, He Doesn't Catch It   \n",
       "...                                                 ...   \n",
       "1227                             The Sub-American Dream   \n",
       "1228                                         Orange Sun   \n",
       "1229  Life Is Unfinished Without the Language of Poetry   \n",
       "1230                           There Is Only Lampyridae   \n",
       "1231                          Class (Crossroads Poetry)   \n",
       "\n",
       "                       Author       Review Rating Review Count  \n",
       "0              Hirohiko Araki  4.9 out of 5 stars          733  \n",
       "1               Liza K Womack  4.9 out of 5 stars          289  \n",
       "2        Wanda E. Brunstetter  4.9 out of 5 stars          247  \n",
       "3     Stephanie Nicole Norris  4.9 out of 5 stars          186  \n",
       "4              Ross Patterson  4.9 out of 5 stars          146  \n",
       "...                       ...                 ...          ...  \n",
       "1227              Unspecified  5.0 out of 5 stars            7  \n",
       "1228           Gerald A. Loeb  5.0 out of 5 stars            7  \n",
       "1229              Unspecified  5.0 out of 5 stars            7  \n",
       "1230              Unspecified  5.0 out of 5 stars            7  \n",
       "1231              Unspecified  5.0 out of 5 stars            7  \n",
       "\n",
       "[1232 rows x 4 columns]"
      ]
     },
     "execution_count": 634,
     "metadata": {},
     "output_type": "execute_result"
    }
   ],
   "source": [
    "lit_fiction"
   ]
  },
  {
   "cell_type": "markdown",
   "metadata": {},
   "source": [
    "# BUSINESS AND MONEY"
   ]
  },
  {
   "cell_type": "code",
   "execution_count": 717,
   "metadata": {},
   "outputs": [],
   "source": [
    "driver = webdriver.Chrome(executable_path=\"C://chromedriver.exe\")"
   ]
  },
  {
   "cell_type": "code",
   "execution_count": 718,
   "metadata": {},
   "outputs": [],
   "source": [
    "def get_url(search_term):\n",
    "    \"\"\"generate a url from search term\"\"\"\n",
    "    template = \"https://www.amazon.com/s?k=categories&i=stripbooks&rh=n%3A283155%2Cn%3A3&s={}&dc&qid=1602606880&ref=sr_st_review-rank\"\n",
    "    search_term = search_term.replace(' ','-')\n",
    "    return template.format(search_term)"
   ]
  },
  {
   "cell_type": "code",
   "execution_count": 719,
   "metadata": {},
   "outputs": [
    {
     "name": "stdout",
     "output_type": "stream",
     "text": [
      "https://www.amazon.com/s?k=categories&i=stripbooks&rh=n%3A283155%2Cn%3A3&s=review-rank&dc&qid=1602606880&ref=sr_st_review-rank\n"
     ]
    }
   ],
   "source": [
    "url2 = get_url('review rank')\n",
    "print(url2)"
   ]
  },
  {
   "cell_type": "code",
   "execution_count": 720,
   "metadata": {},
   "outputs": [],
   "source": [
    "driver.get(url2)"
   ]
  },
  {
   "cell_type": "code",
   "execution_count": 721,
   "metadata": {},
   "outputs": [],
   "source": [
    "soup2 = BeautifulSoup(driver.page_source, 'html.parser')"
   ]
  },
  {
   "cell_type": "code",
   "execution_count": 722,
   "metadata": {},
   "outputs": [],
   "source": [
    "results2 = soup2.find_all('div', {'class': 'a-section a-spacing-medium'})"
   ]
  },
  {
   "cell_type": "code",
   "execution_count": 723,
   "metadata": {},
   "outputs": [
    {
     "data": {
      "text/plain": [
       "16"
      ]
     },
     "execution_count": 723,
     "metadata": {},
     "output_type": "execute_result"
    }
   ],
   "source": [
    "len(results2)"
   ]
  },
  {
   "cell_type": "code",
   "execution_count": 724,
   "metadata": {},
   "outputs": [],
   "source": [
    "item2 = results2[0]"
   ]
  },
  {
   "cell_type": "code",
   "execution_count": 725,
   "metadata": {},
   "outputs": [],
   "source": [
    "book_title2 = item2.find('span', class_=\"a-size-medium a-color-base a-text-normal\")"
   ]
  },
  {
   "cell_type": "code",
   "execution_count": 726,
   "metadata": {},
   "outputs": [],
   "source": [
    "book_title2 = book_title2.text"
   ]
  },
  {
   "cell_type": "code",
   "execution_count": 727,
   "metadata": {},
   "outputs": [
    {
     "data": {
      "text/plain": [
       "'The Clean Money Revolution: Reinventing Power, Purpose, and Capitalism'"
      ]
     },
     "execution_count": 727,
     "metadata": {},
     "output_type": "execute_result"
    }
   ],
   "source": [
    "book_title2"
   ]
  },
  {
   "cell_type": "code",
   "execution_count": 728,
   "metadata": {},
   "outputs": [],
   "source": [
    "author_parent2 = item2.find('div', class_=\"a-row a-size-base a-color-secondary\")"
   ]
  },
  {
   "cell_type": "code",
   "execution_count": 729,
   "metadata": {},
   "outputs": [],
   "source": [
    "author2 = author_parent2.find('a', class_=\"a-size-base a-link-normal\").text.strip()"
   ]
  },
  {
   "cell_type": "code",
   "execution_count": 730,
   "metadata": {},
   "outputs": [
    {
     "data": {
      "text/plain": [
       "'Joel Solomon'"
      ]
     },
     "execution_count": 730,
     "metadata": {},
     "output_type": "execute_result"
    }
   ],
   "source": [
    "author2"
   ]
  },
  {
   "cell_type": "code",
   "execution_count": 731,
   "metadata": {},
   "outputs": [],
   "source": [
    "review_rating_parent2 = item2.find('a', class_=\"a-popover-trigger a-declarative\")"
   ]
  },
  {
   "cell_type": "code",
   "execution_count": 732,
   "metadata": {},
   "outputs": [],
   "source": [
    "review_rating2 = review_rating_parent2.find('i', class_=\"a-icon a-icon-star-small a-star-small-5 aok-align-bottom\").text.strip()"
   ]
  },
  {
   "cell_type": "code",
   "execution_count": 733,
   "metadata": {},
   "outputs": [
    {
     "data": {
      "text/plain": [
       "'5.0 out of 5 stars'"
      ]
     },
     "execution_count": 733,
     "metadata": {},
     "output_type": "execute_result"
    }
   ],
   "source": [
    "review_rating2"
   ]
  },
  {
   "cell_type": "code",
   "execution_count": 734,
   "metadata": {},
   "outputs": [],
   "source": [
    "review_count_parent2 = item2.find('div', class_=\"a-row a-size-small\")"
   ]
  },
  {
   "cell_type": "code",
   "execution_count": 735,
   "metadata": {},
   "outputs": [],
   "source": [
    "review_count2 = review_count_parent2.find_all('span')[3].text.strip()"
   ]
  },
  {
   "cell_type": "code",
   "execution_count": 736,
   "metadata": {},
   "outputs": [
    {
     "data": {
      "text/plain": [
       "'79'"
      ]
     },
     "execution_count": 736,
     "metadata": {},
     "output_type": "execute_result"
    }
   ],
   "source": [
    "review_count2"
   ]
  },
  {
   "cell_type": "code",
   "execution_count": 737,
   "metadata": {},
   "outputs": [],
   "source": [
    "def extract_record(item2):\n",
    "    \"\"\"Extract and return data from a single record\"\"\"\n",
    "    \n",
    "    # description and url\n",
    "    book_title2 = item2.find('span', class_=\"a-size-medium a-color-base a-text-normal\")\n",
    "    book_title2 = book_title2.text\n",
    "    \n",
    "    try:\n",
    "        # author and url\n",
    "        author_parent2 = item2.find('div', class_=\"a-row a-size-base a-color-secondary\")\n",
    "        author2 = author_parent2.find('a', class_=\"a-size-base a-link-normal\").text.strip()\n",
    "    except AttributeError:\n",
    "        author2 = 'Unspecified'\n",
    "   \n",
    "    try:\n",
    "        # review ratings\n",
    "        review_rating_parent2 = item2.find('a', class_=\"a-popover-trigger a-declarative\")\n",
    "        review_rating2 = review_rating_parent2.find('i', class_=\"a-icon a-icon-star-small a-star-small-5 aok-align-bottom\").text.strip()\n",
    "    except AttributeError:\n",
    "        review_rating2 = '0'\n",
    "    \n",
    "    try:\n",
    "        # review count\n",
    "        review_count_parent2 = item2.find('div', class_=\"a-row a-size-small\")\n",
    "        review_count2 = review_count_parent2.find_all('span')[3].text.strip()\n",
    "    except AttributeError:\n",
    "        review_count2 = '0'\n",
    "        \n",
    "    result2 = (book_title2, author2, review_rating2, review_count2)\n",
    "    return result2"
   ]
  },
  {
   "cell_type": "code",
   "execution_count": 738,
   "metadata": {},
   "outputs": [],
   "source": [
    "records2 = []\n",
    "results2 = soup2.find_all('div', {'class': 'a-section a-spacing-medium'})\n",
    "\n",
    "for item2 in results2:\n",
    "    record2 = extract_record(item2)\n",
    "    if record2:\n",
    "        records2.append(record2)"
   ]
  },
  {
   "cell_type": "code",
   "execution_count": 739,
   "metadata": {},
   "outputs": [
    {
     "data": {
      "text/plain": [
       "('The Clean Money Revolution: Reinventing Power, Purpose, and Capitalism',\n",
       " 'Joel Solomon',\n",
       " '5.0 out of 5 stars',\n",
       " '79')"
      ]
     },
     "execution_count": 739,
     "metadata": {},
     "output_type": "execute_result"
    }
   ],
   "source": [
    "records2[0]"
   ]
  },
  {
   "cell_type": "code",
   "execution_count": 740,
   "metadata": {
    "scrolled": true
   },
   "outputs": [
    {
     "name": "stdout",
     "output_type": "stream",
     "text": [
      "The Clean Money Revolution: Reinventing Power, Purpose, and Capitalism\n",
      "Fear Is Not the Boss of You: How to Get Out of Your Head and Live the Life You Were Made For\n",
      "Smuggler's Cove: Exotic Cocktails, Rum, and the Cult of Tiki\n",
      "Discrimination and Disparities\n",
      "Do It! Speaking: 77 Instant-Action Ideas to Market, Monetize, and Maximize Your Expertise\n",
      "The Age of Influence: The Power of Influencers to Elevate Your Brand\n",
      "Unlocking Greatness: The Unexpected Journey from the Life You Have to the Life You Want\n",
      "Leadership Begins with Motivation: 33 Unique Ways to Think & Act Like a Successful Leader That Will Transform Your Professional & Personal Life\n",
      "Do Good: Embracing Brand Citizenship to Fuel Both Purpose and Profit\n",
      "The Seven Spiritual Laws of Success\n",
      "The War on Normal People: The Truth About America's Disappearing Jobs and Why Universal Basic Income Is Our Future\n",
      "Beyond a Million: The Entrepreneur’s Playbook for Expanding Wealth, Freedom and Time\n",
      "Buy, Rehab, Rent, Refinance, Repeat: The BRRRR Rental Property Investment Strategy Made Simple\n",
      "Iconic Advantage®: Don't Chase the New, Innovate the Old\n",
      "Please Stop Helping Us: How Liberals Make It Harder for Blacks to Succeed\n",
      "The Color of Money: Black Banks and the Racial Wealth Gap\n"
     ]
    }
   ],
   "source": [
    "for row in records2:\n",
    "    print(row[0])"
   ]
  },
  {
   "cell_type": "code",
   "execution_count": 741,
   "metadata": {},
   "outputs": [],
   "source": [
    "def get_url(search_term):\n",
    "    \"\"\"generate a url from search term\"\"\"\n",
    "    template = \"https://www.amazon.com/s?k=categories&i=stripbooks&rh=n%3A283155%2Cn%3A3&s={}&dc&qid=1602606880&ref=sr_st_review-rank\"\n",
    "    search_term = search_term.replace(' ','-')\n",
    "    \n",
    "    # add term query to url\n",
    "    url = template.format(search_term)\n",
    "    \n",
    "    # add page query placeholder\n",
    "    url += '&page={}'  \n",
    "    \n",
    "    return url"
   ]
  },
  {
   "cell_type": "code",
   "execution_count": 746,
   "metadata": {},
   "outputs": [],
   "source": [
    "#import csv\n",
    "from bs4 import BeautifulSoup\n",
    "from selenium import webdriver\n",
    "\n",
    "def get_url(search_term):\n",
    "    \"\"\"generate a url from search term\"\"\"\n",
    "    template = \"https://www.amazon.com/s?k=categories&i=stripbooks&rh=n%3A283155%2Cn%3A3&s={}&dc&qid=1602606880&ref=sr_st_review-rank\"\n",
    "    search_term = search_term.replace(' ','-')\n",
    "    \n",
    "    # add term query to url\n",
    "    url = template.format(search_term)\n",
    "    \n",
    "    # add page query placeholder\n",
    "    url += '&page={}'  \n",
    "    \n",
    "    return url\n",
    "\n",
    "def extract_record(item2):\n",
    "    \"\"\"Extract and return data from a single record\"\"\"\n",
    "    \n",
    "    # description and url\n",
    "    book_title2 = item2.find('span', class_=\"a-size-medium a-color-base a-text-normal\")\n",
    "    book_title2 = book_title2.text\n",
    "    \n",
    "    try:\n",
    "        # author and url\n",
    "        author_parent2 = item2.find('div', class_=\"a-row a-size-base a-color-secondary\")\n",
    "        author2 = author_parent2.find('a', class_=\"a-size-base a-link-normal\").text.strip()\n",
    "    except AttributeError:\n",
    "        author2 = 'Unspecified'\n",
    "   \n",
    "    try:\n",
    "        # review ratings\n",
    "        review_rating_parent2 = item2.find('a', class_=\"a-popover-trigger a-declarative\")\n",
    "        review_rating2 = review_rating_parent2.find('i', class_=\"a-icon a-icon-star-small a-star-small-5 aok-align-bottom\").text.strip()\n",
    "    except AttributeError:\n",
    "        review_rating2 = '0'\n",
    "    \n",
    "    try:\n",
    "        # review count\n",
    "        review_count_parent2 = item2.find('div', class_=\"a-row a-size-small\")\n",
    "        review_count2 = review_count_parent2.find_all('span')[3].text.strip()\n",
    "    except AttributeError:\n",
    "        review_count2 = '0'\n",
    "        \n",
    "    result2 = (book_title2, author2, review_rating2, review_count2)\n",
    "    return result2\n",
    "\n",
    "def main2(search_term): \n",
    "    \"\"\"run main program routine\"\"\"\n",
    "    driver = webdriver.Chrome(executable_path=\"C://chromedriver.exe\")\n",
    "    \n",
    "    record2 = []\n",
    "    \n",
    "    url2 = get_url(search_term)\n",
    "    \n",
    "    for page in range(2, 76):\n",
    "        driver.get(url2.format(page))\n",
    "        soup2 = BeautifulSoup(driver.page_source, 'html.parser')\n",
    "        results2 = soup2.find_all('div', {'class': 'a-section a-spacing-medium'})\n",
    "        \n",
    "        for item2 in results2:\n",
    "            record2 = extract_record(item2)\n",
    "            if record2:    \n",
    "                records2.append(record2)\n",
    "                \n",
    "    driver.close()\n",
    "    # save the data to csv file\n",
    "    with open('business and money.csv', 'w', encoding='utf-8') as f:\n",
    "        writer = csv.writer(f)\n",
    "        writer.writerow(['Book Title', 'Author', 'Review Rating', 'Review Count'])\n",
    "        writer.writerows(records2)"
   ]
  },
  {
   "cell_type": "code",
   "execution_count": 747,
   "metadata": {},
   "outputs": [],
   "source": [
    "main2('review rank')"
   ]
  },
  {
   "cell_type": "code",
   "execution_count": 748,
   "metadata": {},
   "outputs": [],
   "source": [
    "bus_money = pd.read_csv('business and money.csv')"
   ]
  },
  {
   "cell_type": "code",
   "execution_count": 749,
   "metadata": {},
   "outputs": [
    {
     "data": {
      "text/html": [
       "<div>\n",
       "<style scoped>\n",
       "    .dataframe tbody tr th:only-of-type {\n",
       "        vertical-align: middle;\n",
       "    }\n",
       "\n",
       "    .dataframe tbody tr th {\n",
       "        vertical-align: top;\n",
       "    }\n",
       "\n",
       "    .dataframe thead th {\n",
       "        text-align: right;\n",
       "    }\n",
       "</style>\n",
       "<table border=\"1\" class=\"dataframe\">\n",
       "  <thead>\n",
       "    <tr style=\"text-align: right;\">\n",
       "      <th></th>\n",
       "      <th>Book Title</th>\n",
       "      <th>Author</th>\n",
       "      <th>Review Rating</th>\n",
       "      <th>Review Count</th>\n",
       "    </tr>\n",
       "  </thead>\n",
       "  <tbody>\n",
       "    <tr>\n",
       "      <th>0</th>\n",
       "      <td>The Clean Money Revolution: Reinventing Power,...</td>\n",
       "      <td>Joel Solomon</td>\n",
       "      <td>5.0 out of 5 stars</td>\n",
       "      <td>79</td>\n",
       "    </tr>\n",
       "    <tr>\n",
       "      <th>1</th>\n",
       "      <td>Fear Is Not the Boss of You: How to Get Out of...</td>\n",
       "      <td>Jennifer Allwood</td>\n",
       "      <td>4.9 out of 5 stars</td>\n",
       "      <td>1,126</td>\n",
       "    </tr>\n",
       "    <tr>\n",
       "      <th>2</th>\n",
       "      <td>Smuggler's Cove: Exotic Cocktails, Rum, and th...</td>\n",
       "      <td>Martin Cate</td>\n",
       "      <td>4.9 out of 5 stars</td>\n",
       "      <td>1,093</td>\n",
       "    </tr>\n",
       "    <tr>\n",
       "      <th>3</th>\n",
       "      <td>Discrimination and Disparities</td>\n",
       "      <td>Thomas Sowell</td>\n",
       "      <td>4.9 out of 5 stars</td>\n",
       "      <td>1,001</td>\n",
       "    </tr>\n",
       "    <tr>\n",
       "      <th>4</th>\n",
       "      <td>Do It! Speaking: 77 Instant-Action Ideas to Ma...</td>\n",
       "      <td>David Newman</td>\n",
       "      <td>4.9 out of 5 stars</td>\n",
       "      <td>116</td>\n",
       "    </tr>\n",
       "    <tr>\n",
       "      <th>...</th>\n",
       "      <td>...</td>\n",
       "      <td>...</td>\n",
       "      <td>...</td>\n",
       "      <td>...</td>\n",
       "    </tr>\n",
       "    <tr>\n",
       "      <th>1243</th>\n",
       "      <td>RCM--Gateway to World Class Maintenance</td>\n",
       "      <td>Anthony M. Smith</td>\n",
       "      <td>5.0 out of 5 stars</td>\n",
       "      <td>4</td>\n",
       "    </tr>\n",
       "    <tr>\n",
       "      <th>1244</th>\n",
       "      <td>Teacher Strike!: Public Education and the Maki...</td>\n",
       "      <td>Jon Shelton</td>\n",
       "      <td>5.0 out of 5 stars</td>\n",
       "      <td>4</td>\n",
       "    </tr>\n",
       "    <tr>\n",
       "      <th>1245</th>\n",
       "      <td>Customer Service Management Training 101: Quic...</td>\n",
       "      <td>Renee Evenson</td>\n",
       "      <td>0</td>\n",
       "      <td>8</td>\n",
       "    </tr>\n",
       "    <tr>\n",
       "      <th>1246</th>\n",
       "      <td>Knock Your Socks Off Service Recovery</td>\n",
       "      <td>Ron Zemke</td>\n",
       "      <td>5.0 out of 5 stars</td>\n",
       "      <td>4</td>\n",
       "    </tr>\n",
       "    <tr>\n",
       "      <th>1247</th>\n",
       "      <td>Counterparty Credit Risk, Collateral and Fundi...</td>\n",
       "      <td>Damiano Brigo</td>\n",
       "      <td>0</td>\n",
       "      <td>8</td>\n",
       "    </tr>\n",
       "  </tbody>\n",
       "</table>\n",
       "<p>1248 rows × 4 columns</p>\n",
       "</div>"
      ],
      "text/plain": [
       "                                             Book Title            Author  \\\n",
       "0     The Clean Money Revolution: Reinventing Power,...      Joel Solomon   \n",
       "1     Fear Is Not the Boss of You: How to Get Out of...  Jennifer Allwood   \n",
       "2     Smuggler's Cove: Exotic Cocktails, Rum, and th...       Martin Cate   \n",
       "3                        Discrimination and Disparities     Thomas Sowell   \n",
       "4     Do It! Speaking: 77 Instant-Action Ideas to Ma...      David Newman   \n",
       "...                                                 ...               ...   \n",
       "1243            RCM--Gateway to World Class Maintenance  Anthony M. Smith   \n",
       "1244  Teacher Strike!: Public Education and the Maki...       Jon Shelton   \n",
       "1245  Customer Service Management Training 101: Quic...     Renee Evenson   \n",
       "1246              Knock Your Socks Off Service Recovery         Ron Zemke   \n",
       "1247  Counterparty Credit Risk, Collateral and Fundi...     Damiano Brigo   \n",
       "\n",
       "           Review Rating Review Count  \n",
       "0     5.0 out of 5 stars           79  \n",
       "1     4.9 out of 5 stars        1,126  \n",
       "2     4.9 out of 5 stars        1,093  \n",
       "3     4.9 out of 5 stars        1,001  \n",
       "4     4.9 out of 5 stars          116  \n",
       "...                  ...          ...  \n",
       "1243  5.0 out of 5 stars            4  \n",
       "1244  5.0 out of 5 stars            4  \n",
       "1245                   0            8  \n",
       "1246  5.0 out of 5 stars            4  \n",
       "1247                   0            8  \n",
       "\n",
       "[1248 rows x 4 columns]"
      ]
     },
     "execution_count": 749,
     "metadata": {},
     "output_type": "execute_result"
    }
   ],
   "source": [
    "bus_money "
   ]
  },
  {
   "cell_type": "code",
   "execution_count": null,
   "metadata": {},
   "outputs": [],
   "source": []
  },
  {
   "cell_type": "markdown",
   "metadata": {},
   "source": [
    "# RELIGION"
   ]
  },
  {
   "cell_type": "code",
   "execution_count": 750,
   "metadata": {},
   "outputs": [],
   "source": [
    "driver = webdriver.Chrome(executable_path=\"C://chromedriver.exe\")"
   ]
  },
  {
   "cell_type": "code",
   "execution_count": 751,
   "metadata": {},
   "outputs": [],
   "source": [
    "def get_url(search_term):\n",
    "    \"\"\"generate a url from search term\"\"\"\n",
    "    template = \"https://www.amazon.com/s?k=department&i=stripbooks&rh=n%3A283155%2Cn%3A22&s=review-rank&dc&qid=1602610498&rnid=1000&ref=sr_st_review-rank\"\n",
    "    search_term = search_term.replace(' ','-')\n",
    "    return template.format(search_term)"
   ]
  },
  {
   "cell_type": "code",
   "execution_count": 752,
   "metadata": {},
   "outputs": [
    {
     "name": "stdout",
     "output_type": "stream",
     "text": [
      "https://www.amazon.com/s?k=department&i=stripbooks&rh=n%3A283155%2Cn%3A22&s=review-rank&dc&qid=1602610498&rnid=1000&ref=sr_st_review-rank\n"
     ]
    }
   ],
   "source": [
    "url3 = get_url('review rank')\n",
    "print(url3)"
   ]
  },
  {
   "cell_type": "code",
   "execution_count": 753,
   "metadata": {},
   "outputs": [],
   "source": [
    "driver.get(url3)"
   ]
  },
  {
   "cell_type": "code",
   "execution_count": 754,
   "metadata": {},
   "outputs": [],
   "source": [
    "soup3 = BeautifulSoup(driver.page_source, 'html.parser')"
   ]
  },
  {
   "cell_type": "code",
   "execution_count": 755,
   "metadata": {},
   "outputs": [],
   "source": [
    "results3 = soup3.find_all('div', {'class': 'a-section a-spacing-medium'})"
   ]
  },
  {
   "cell_type": "code",
   "execution_count": 756,
   "metadata": {},
   "outputs": [
    {
     "data": {
      "text/plain": [
       "16"
      ]
     },
     "execution_count": 756,
     "metadata": {},
     "output_type": "execute_result"
    }
   ],
   "source": [
    "len(results3)"
   ]
  },
  {
   "cell_type": "code",
   "execution_count": 757,
   "metadata": {},
   "outputs": [],
   "source": [
    "item3 = results3[0]\n",
    "\n",
    "book_title3 = item3.find('span', class_=\"a-size-medium a-color-base a-text-normal\")\n",
    "book_title3 = book_title3.text\n",
    "\n",
    "author_parent3 = item3.find('div', class_=\"a-row a-size-base a-color-secondary\")\n",
    "author3 = author_parent3.find('a', class_=\"a-size-base a-link-normal\").text.strip()\n",
    "\n",
    "review_rating_parent3 = item3.find('a', class_=\"a-popover-trigger a-declarative\")\n",
    "review_rating3 = review_rating_parent3.find('i', class_=\"a-icon a-icon-star-small a-star-small-5 aok-align-bottom\").text.strip()\n",
    "\n",
    "review_count_parent3 = item3.find('div', class_=\"a-row a-size-small\")\n",
    "review_count3 = review_count_parent3.find_all('span')[3].text.strip()"
   ]
  },
  {
   "cell_type": "code",
   "execution_count": 758,
   "metadata": {},
   "outputs": [],
   "source": [
    "def extract_record(item3):\n",
    "    \"\"\"Extract and return data from a single record\"\"\"\n",
    "    \n",
    "    # description and url\n",
    "    book_title3 = item3.find('span', class_=\"a-size-medium a-color-base a-text-normal\")\n",
    "    book_title3 = book_title3.text\n",
    "    \n",
    "    try:\n",
    "        # author and url\n",
    "        author_parent3 = item3.find('div', class_=\"a-row a-size-base a-color-secondary\")\n",
    "        author3 = author_parent3.find('a', class_=\"a-size-base a-link-normal\").text.strip()\n",
    "    except AttributeError:\n",
    "        author3 = 'Unspecified'\n",
    "   \n",
    "    try:\n",
    "        # review ratings\n",
    "        review_rating_parent3 = item3.find('a', class_=\"a-popover-trigger a-declarative\")\n",
    "        review_rating3 = review_rating_parent3.find('i', class_=\"a-icon a-icon-star-small a-star-small-5 aok-align-bottom\").text.strip()\n",
    "    except AttributeError:\n",
    "        review_rating3 = '0'\n",
    "    \n",
    "    try:\n",
    "        # review count\n",
    "        review_count_parent3 = item3.find('div', class_=\"a-row a-size-small\")\n",
    "        review_count3 = review_count_parent3.find_all('span')[3].text.strip()\n",
    "    except AttributeError:\n",
    "        review_count3 = '0'\n",
    "        \n",
    "    result3 = (book_title3, author3, review_rating3, review_count3)\n",
    "    return result3"
   ]
  },
  {
   "cell_type": "code",
   "execution_count": 759,
   "metadata": {},
   "outputs": [],
   "source": [
    "records3 = []\n",
    "results3 = soup3.find_all('div', {'class': 'a-section a-spacing-medium'})\n",
    "\n",
    "for item3 in results3:\n",
    "    record3 = extract_record(item3)\n",
    "    if record3:\n",
    "        records3.append(record3)"
   ]
  },
  {
   "cell_type": "code",
   "execution_count": 760,
   "metadata": {},
   "outputs": [
    {
     "data": {
      "text/plain": [
       "('The Holy Word for Morning Revival - The Experience of Christ',\n",
       " 'Witness Lee',\n",
       " '5.0 out of 5 stars',\n",
       " '147')"
      ]
     },
     "execution_count": 760,
     "metadata": {},
     "output_type": "execute_result"
    }
   ],
   "source": [
    "records3[0]"
   ]
  },
  {
   "cell_type": "code",
   "execution_count": 762,
   "metadata": {},
   "outputs": [
    {
     "name": "stdout",
     "output_type": "stream",
     "text": [
      "The Holy Word for Morning Revival - The Experience of Christ\n",
      "The Friend who Forgives (Tales That Tell the Truth)\n",
      "Church Undivided: Exploring God’s Vision for Unity in 1 Corinthians 8–10\n",
      "Both Sides Now: A True Story of Love, Loss and Bold Living.\n",
      "The Holy Word for Morning Revival - Crystallization-study of Deuteronomy, Volume 2\n",
      "The Glory Within: The Interior Life and the Power of Speaking in Tongues\n",
      "The Holy Word for Morning Revival - Crystallization-study of Deuteronomy, Volume 1\n",
      "New Morning Mercies: A Daily Gospel Devotional\n",
      "Leading the Other Way: How to Change the Church Planting World\n",
      "God's Creative Power for Healing\n",
      "Parenting: 14 Gospel Principles That Can Radically Change Your Family\n",
      "Refuting Rabbinic Objections to Christianity & Messianic Prophecies\n",
      "Praying Through It: 365 Days Worth of Prayers That Make Praying Easy\n",
      "NKJV, Adventure Bible, Leathersoft, Blue, Full Color\n",
      "The Read-Aloud Family: Making Meaningful and Lasting Connections with Your Kids\n",
      "The Believer's Authority\n"
     ]
    }
   ],
   "source": [
    "for row in records3:\n",
    "    print(row[0])"
   ]
  },
  {
   "cell_type": "code",
   "execution_count": 767,
   "metadata": {},
   "outputs": [],
   "source": [
    "#import csv\n",
    "from bs4 import BeautifulSoup\n",
    "from selenium import webdriver\n",
    "\n",
    "def get_url(search_term):\n",
    "    \"\"\"generate a url from search term\"\"\"\n",
    "    template = \"https://www.amazon.com/s?k=department&i=stripbooks&rh=n%3A283155%2Cn%3A22&s={}&dc&qid=1602610498&rnid=1000&ref=sr_st_review-rank\"\n",
    "    search_term = search_term.replace(' ','-')\n",
    "    \n",
    "    # add term query to url\n",
    "    url = template.format(search_term)\n",
    "    \n",
    "    # add page query placeholder\n",
    "    url += '&page={}'  \n",
    "    \n",
    "    return url\n",
    "\n",
    "def extract_record(item3):\n",
    "    \"\"\"Extract and return data from a single record\"\"\"\n",
    "    \n",
    "    # description and url\n",
    "    book_title3 = item3.find('span', class_=\"a-size-medium a-color-base a-text-normal\")\n",
    "    book_title3 = book_title3.text\n",
    "    \n",
    "    try:\n",
    "        # author and url\n",
    "        author_parent3 = item3.find('div', class_=\"a-row a-size-base a-color-secondary\")\n",
    "        author3 = author_parent3.find('a', class_=\"a-size-base a-link-normal\").text.strip()\n",
    "    except AttributeError:\n",
    "        author3 = 'Unspecified'\n",
    "   \n",
    "    try:\n",
    "        # review ratings\n",
    "        review_rating_parent3 = item3.find('a', class_=\"a-popover-trigger a-declarative\")\n",
    "        review_rating3 = review_rating_parent3.find('i', class_=\"a-icon a-icon-star-small a-star-small-5 aok-align-bottom\").text.strip()\n",
    "    except AttributeError:\n",
    "        review_rating3 = '0'\n",
    "    \n",
    "    try:\n",
    "        # review count\n",
    "        review_count_parent3 = item3.find('div', class_=\"a-row a-size-small\")\n",
    "        review_count3 = review_count_parent3.find_all('span')[3].text.strip()\n",
    "    except AttributeError:\n",
    "        review_count3 = '0'\n",
    "        \n",
    "    result3 = (book_title3, author3, review_rating3, review_count3)\n",
    "    return result3\n",
    "\n",
    "def main3(search_term): \n",
    "    \"\"\"run main program routine\"\"\"\n",
    "    driver = webdriver.Chrome(executable_path=\"C://chromedriver.exe\")\n",
    "    \n",
    "    record3 = []\n",
    "    \n",
    "    url3 = get_url(search_term)\n",
    "    \n",
    "    for page in range(2, 76):\n",
    "        driver.get(url3.format(page))\n",
    "        soup3 = BeautifulSoup(driver.page_source, 'html.parser')\n",
    "        results3 = soup3.find_all('div', {'class': 'a-section a-spacing-medium'})\n",
    "        \n",
    "        for item3 in results3:\n",
    "            record3 = extract_record(item3)\n",
    "            if record3:    \n",
    "                records3.append(record3)\n",
    "                \n",
    "    driver.close()\n",
    "    # save the data to csv file\n",
    "    with open('Religion.csv', 'w', encoding='utf-8') as f:\n",
    "        writer = csv.writer(f)\n",
    "        writer.writerow(['Book Title', 'Author', 'Review Rating', 'Review Count'])\n",
    "        writer.writerows(records3)"
   ]
  },
  {
   "cell_type": "code",
   "execution_count": 768,
   "metadata": {},
   "outputs": [],
   "source": [
    "main3('review rank')"
   ]
  },
  {
   "cell_type": "code",
   "execution_count": 769,
   "metadata": {},
   "outputs": [],
   "source": [
    "religion = pd.read_csv('Religion.csv')"
   ]
  },
  {
   "cell_type": "code",
   "execution_count": 770,
   "metadata": {},
   "outputs": [
    {
     "data": {
      "text/html": [
       "<div>\n",
       "<style scoped>\n",
       "    .dataframe tbody tr th:only-of-type {\n",
       "        vertical-align: middle;\n",
       "    }\n",
       "\n",
       "    .dataframe tbody tr th {\n",
       "        vertical-align: top;\n",
       "    }\n",
       "\n",
       "    .dataframe thead th {\n",
       "        text-align: right;\n",
       "    }\n",
       "</style>\n",
       "<table border=\"1\" class=\"dataframe\">\n",
       "  <thead>\n",
       "    <tr style=\"text-align: right;\">\n",
       "      <th></th>\n",
       "      <th>Book Title</th>\n",
       "      <th>Author</th>\n",
       "      <th>Review Rating</th>\n",
       "      <th>Review Count</th>\n",
       "    </tr>\n",
       "  </thead>\n",
       "  <tbody>\n",
       "    <tr>\n",
       "      <th>0</th>\n",
       "      <td>The Holy Word for Morning Revival - The Experi...</td>\n",
       "      <td>Witness Lee</td>\n",
       "      <td>5.0 out of 5 stars</td>\n",
       "      <td>147</td>\n",
       "    </tr>\n",
       "    <tr>\n",
       "      <th>1</th>\n",
       "      <td>The Friend who Forgives (Tales That Tell the T...</td>\n",
       "      <td>Dan DeWitt</td>\n",
       "      <td>5.0 out of 5 stars</td>\n",
       "      <td>140</td>\n",
       "    </tr>\n",
       "    <tr>\n",
       "      <th>2</th>\n",
       "      <td>Church Undivided: Exploring God’s Vision for U...</td>\n",
       "      <td>Bob Ingle</td>\n",
       "      <td>5.0 out of 5 stars</td>\n",
       "      <td>103</td>\n",
       "    </tr>\n",
       "    <tr>\n",
       "      <th>3</th>\n",
       "      <td>Both Sides Now: A True Story of Love, Loss and...</td>\n",
       "      <td>Nancy Sharp</td>\n",
       "      <td>5.0 out of 5 stars</td>\n",
       "      <td>103</td>\n",
       "    </tr>\n",
       "    <tr>\n",
       "      <th>4</th>\n",
       "      <td>The Holy Word for Morning Revival - Crystalliz...</td>\n",
       "      <td>Witness Lee</td>\n",
       "      <td>5.0 out of 5 stars</td>\n",
       "      <td>91</td>\n",
       "    </tr>\n",
       "    <tr>\n",
       "      <th>...</th>\n",
       "      <td>...</td>\n",
       "      <td>...</td>\n",
       "      <td>...</td>\n",
       "      <td>...</td>\n",
       "    </tr>\n",
       "    <tr>\n",
       "      <th>1243</th>\n",
       "      <td>The Practice of God's Presence</td>\n",
       "      <td>Unspecified</td>\n",
       "      <td>4.8 out of 5 stars</td>\n",
       "      <td>51</td>\n",
       "    </tr>\n",
       "    <tr>\n",
       "      <th>1244</th>\n",
       "      <td>Gutsy Girls: Strong Christian Women Who Impact...</td>\n",
       "      <td>Amy L. Sullivan</td>\n",
       "      <td>4.8 out of 5 stars</td>\n",
       "      <td>51</td>\n",
       "    </tr>\n",
       "    <tr>\n",
       "      <th>1245</th>\n",
       "      <td>The Holy Word for Morning Revival - Crystalliz...</td>\n",
       "      <td>Witness Lee</td>\n",
       "      <td>4.8 out of 5 stars</td>\n",
       "      <td>51</td>\n",
       "    </tr>\n",
       "    <tr>\n",
       "      <th>1246</th>\n",
       "      <td>How Many Times Do I Have to Tell You?</td>\n",
       "      <td>Unspecified</td>\n",
       "      <td>4.8 out of 5 stars</td>\n",
       "      <td>51</td>\n",
       "    </tr>\n",
       "    <tr>\n",
       "      <th>1247</th>\n",
       "      <td>Good and Evil</td>\n",
       "      <td>Michael Pearl</td>\n",
       "      <td>0</td>\n",
       "      <td>214</td>\n",
       "    </tr>\n",
       "  </tbody>\n",
       "</table>\n",
       "<p>1248 rows × 4 columns</p>\n",
       "</div>"
      ],
      "text/plain": [
       "                                             Book Title           Author  \\\n",
       "0     The Holy Word for Morning Revival - The Experi...      Witness Lee   \n",
       "1     The Friend who Forgives (Tales That Tell the T...       Dan DeWitt   \n",
       "2     Church Undivided: Exploring God’s Vision for U...        Bob Ingle   \n",
       "3     Both Sides Now: A True Story of Love, Loss and...      Nancy Sharp   \n",
       "4     The Holy Word for Morning Revival - Crystalliz...      Witness Lee   \n",
       "...                                                 ...              ...   \n",
       "1243                     The Practice of God's Presence      Unspecified   \n",
       "1244  Gutsy Girls: Strong Christian Women Who Impact...  Amy L. Sullivan   \n",
       "1245  The Holy Word for Morning Revival - Crystalliz...      Witness Lee   \n",
       "1246              How Many Times Do I Have to Tell You?      Unspecified   \n",
       "1247                                      Good and Evil    Michael Pearl   \n",
       "\n",
       "           Review Rating Review Count  \n",
       "0     5.0 out of 5 stars          147  \n",
       "1     5.0 out of 5 stars          140  \n",
       "2     5.0 out of 5 stars          103  \n",
       "3     5.0 out of 5 stars          103  \n",
       "4     5.0 out of 5 stars           91  \n",
       "...                  ...          ...  \n",
       "1243  4.8 out of 5 stars           51  \n",
       "1244  4.8 out of 5 stars           51  \n",
       "1245  4.8 out of 5 stars           51  \n",
       "1246  4.8 out of 5 stars           51  \n",
       "1247                   0          214  \n",
       "\n",
       "[1248 rows x 4 columns]"
      ]
     },
     "execution_count": 770,
     "metadata": {},
     "output_type": "execute_result"
    }
   ],
   "source": [
    "religion"
   ]
  },
  {
   "cell_type": "code",
   "execution_count": null,
   "metadata": {},
   "outputs": [],
   "source": []
  },
  {
   "cell_type": "markdown",
   "metadata": {},
   "source": [
    "# POLITICS AND SOCIAL SCIENCE"
   ]
  },
  {
   "cell_type": "code",
   "execution_count": 1154,
   "metadata": {},
   "outputs": [],
   "source": [
    "driver = webdriver.Chrome(executable_path=\"C://chromedriver.exe\")"
   ]
  },
  {
   "cell_type": "code",
   "execution_count": 1155,
   "metadata": {},
   "outputs": [],
   "source": [
    "def get_url(search_term):\n",
    "    \"\"\"generate a url from search term\"\"\"\n",
    "    template = \"https://www.amazon.com/s?k=department&i=stripbooks&rh=n%3A283155%2Cn%3A3377866011&s={}&dc&qid=1602614413&rnid=1000&ref=sr_nr_n_1\"\n",
    "    search_term = search_term.replace(' ','-')\n",
    "    return template.format(search_term)"
   ]
  },
  {
   "cell_type": "code",
   "execution_count": 1156,
   "metadata": {},
   "outputs": [
    {
     "name": "stdout",
     "output_type": "stream",
     "text": [
      "https://www.amazon.com/s?k=department&i=stripbooks&rh=n%3A283155%2Cn%3A3377866011&s=review-rank&dc&qid=1602614413&rnid=1000&ref=sr_nr_n_1\n"
     ]
    }
   ],
   "source": [
    "url4 = get_url('review rank')\n",
    "print(url4)"
   ]
  },
  {
   "cell_type": "code",
   "execution_count": 1157,
   "metadata": {},
   "outputs": [],
   "source": [
    "driver.get(url4)"
   ]
  },
  {
   "cell_type": "code",
   "execution_count": 1158,
   "metadata": {},
   "outputs": [],
   "source": [
    "soup4 = BeautifulSoup(driver.page_source, 'html.parser')"
   ]
  },
  {
   "cell_type": "code",
   "execution_count": 1159,
   "metadata": {},
   "outputs": [],
   "source": [
    "results4 = soup4.find_all('div', {'class': 'a-section a-spacing-medium'})"
   ]
  },
  {
   "cell_type": "code",
   "execution_count": 1160,
   "metadata": {},
   "outputs": [
    {
     "data": {
      "text/plain": [
       "16"
      ]
     },
     "execution_count": 1160,
     "metadata": {},
     "output_type": "execute_result"
    }
   ],
   "source": [
    "len(results4)"
   ]
  },
  {
   "cell_type": "code",
   "execution_count": 1161,
   "metadata": {},
   "outputs": [],
   "source": [
    "item4 = results4[0]\n",
    "\n",
    "book_title4 = item4.find('span', class_=\"a-size-medium a-color-base a-text-normal\")\n",
    "book_title4 = book_title4.text\n",
    "\n",
    "author_parent4 = item4.find('div', class_=\"a-row a-size-base a-color-secondary\")\n",
    "author4 = author_parent4.find('a', class_=\"a-size-base a-link-normal\").text.strip()\n",
    "\n",
    "review_rating_parent4 = item4.find('a', class_=\"a-popover-trigger a-declarative\")\n",
    "review_rating4 = review_rating_parent4.find('i', class_=\"a-icon a-icon-star-small a-star-small-5 aok-align-bottom\").text.strip()\n",
    "\n",
    "review_count_parent4 = item4.find('div', class_=\"a-row a-size-small\")\n",
    "review_count4 = review_count_parent4.find_all('span')[3].text.strip()"
   ]
  },
  {
   "cell_type": "code",
   "execution_count": 1162,
   "metadata": {},
   "outputs": [],
   "source": [
    "def extract_record(item4):\n",
    "    \"\"\"Extract and return data from a single record\"\"\"\n",
    "    \n",
    "    # description and url\n",
    "    book_title4 = item4.find('span', class_=\"a-size-medium a-color-base a-text-normal\")\n",
    "    book_title4 = book_title4.text\n",
    "    \n",
    "    try:\n",
    "        # author and url\n",
    "        author_parent4 = item4.find('div', class_=\"a-row a-size-base a-color-secondary\")\n",
    "        author4 = author_parent4.find('a', class_=\"a-size-base a-link-normal\").text.strip()\n",
    "    except AttributeError:\n",
    "        author4 = 'Unspecified'\n",
    "   \n",
    "    try:\n",
    "        # review ratings\n",
    "        review_rating_parent4 = item4.find('a', class_=\"a-popover-trigger a-declarative\")\n",
    "        review_rating4 = review_rating_parent4.find('i', class_=\"a-icon a-icon-star-small a-star-small-5 aok-align-bottom\").text.strip()\n",
    "    except AttributeError:\n",
    "        review_rating4 = '0'\n",
    "    \n",
    "    try:\n",
    "        # review count\n",
    "        review_count_parent4 = item4.find('div', class_=\"a-row a-size-small\")\n",
    "        review_count4 = review_count_parent4.find_all('span')[3].text.strip()\n",
    "    except AttributeError:\n",
    "        review_count4 = '0'\n",
    "        \n",
    "    result4 = (book_title4, author4, review_rating4, review_count4)\n",
    "    return result4"
   ]
  },
  {
   "cell_type": "code",
   "execution_count": 1163,
   "metadata": {},
   "outputs": [],
   "source": [
    "records4 = []\n",
    "results4 = soup4.find_all('div', {'class': 'a-section a-spacing-medium'})\n",
    "\n",
    "for item4 in results4:\n",
    "    record4 = extract_record(item4)\n",
    "    if record4:\n",
    "        records4.append(record4)"
   ]
  },
  {
   "cell_type": "code",
   "execution_count": 1164,
   "metadata": {},
   "outputs": [
    {
     "data": {
      "text/plain": [
       "('Both Sides Now: A True Story of Love, Loss and Bold Living.',\n",
       " 'Nancy Sharp',\n",
       " '5.0 out of 5 stars',\n",
       " '103')"
      ]
     },
     "execution_count": 1164,
     "metadata": {},
     "output_type": "execute_result"
    }
   ],
   "source": [
    "records4[0]"
   ]
  },
  {
   "cell_type": "code",
   "execution_count": 1165,
   "metadata": {},
   "outputs": [
    {
     "name": "stdout",
     "output_type": "stream",
     "text": [
      "Both Sides Now: A True Story of Love, Loss and Bold Living.\n",
      "Esther the Wonder Pig: Changing the World One Heart at a Time\n",
      "Discrimination and Disparities\n",
      "Black Labor, White Wealth : The Search for Power and Economic Justice\n",
      "Dirt to Soil: One Family’s Journey into Regenerative Agriculture\n",
      "The Quest for Cosmic Justice\n",
      "O Livro dos Médiuns (Portuguese Edition)\n",
      "Getting Life: An Innocent Man's 25-Year Journey from Prison to Peace\n",
      "Farming While Black: Soul Fire Farm’s Practical Guide to Liberation on the Land\n",
      "Stealth Invasion: Muslim Conquest Through Immigration and Resettlement Jihad\n",
      "An Introduction to Celebrity Protection and Touring: A Guide to Mastering the Business of Vip Security\n",
      "Temple Grandin's Guide to Working with Farm Animals: Safe, Humane Livestock Handling Practices for the Small Farm\n",
      "Invasão Vertical dos Bárbaros (Coleção Abertura Cultural) (Portuguese Edition)\n",
      "Super Soldiers: A Salute to the Comic Book Heroes and Villains Who Fought for Their Country\n",
      "Tiki Pop (Bibliotheca Universalis) (Multilingual Edition)\n",
      "A Dedicated Life: Journalism, Justice and a Chance for Every Child\n"
     ]
    }
   ],
   "source": [
    "for row in records4:\n",
    "    print(row[0])"
   ]
  },
  {
   "cell_type": "code",
   "execution_count": 1166,
   "metadata": {},
   "outputs": [],
   "source": [
    "#import csv\n",
    "from bs4 import BeautifulSoup\n",
    "from selenium import webdriver\n",
    "\n",
    "def get_url(search_term):\n",
    "    \"\"\"generate a url from search term\"\"\"\n",
    "    template = \"https://www.amazon.com/s?k=department&i=stripbooks&rh=n%3A283155%2Cn%3A3377866011&s={}&dc&qid=1602614413&rnid=1000&ref=sr_nr_n_1\"\n",
    "    search_term = search_term.replace(' ','-')\n",
    "    \n",
    "    # add term query to url\n",
    "    url = template.format(search_term)\n",
    "    \n",
    "    # add page query placeholder\n",
    "    url += '&page={}'  \n",
    "    \n",
    "    return url\n",
    "\n",
    "def extract_record(item4):\n",
    "    \"\"\"Extract and return data from a single record\"\"\"\n",
    "    \n",
    "    # description and url\n",
    "    book_title4 = item4.find('span', class_=\"a-size-medium a-color-base a-text-normal\")\n",
    "    book_title4 = book_title4.text\n",
    "    \n",
    "    try:\n",
    "        # author and url\n",
    "        author_parent4 = item4.find('div', class_=\"a-row a-size-base a-color-secondary\")\n",
    "        author4 = author_parent4.find('a', class_=\"a-size-base a-link-normal\").text.strip()\n",
    "    except AttributeError:\n",
    "        author4 = 'Unspecified'\n",
    "   \n",
    "    try:\n",
    "        # review ratings\n",
    "        review_rating_parent4 = item4.find('a', class_=\"a-popover-trigger a-declarative\")\n",
    "        review_rating4 = review_rating_parent4.find('i', class_=\"a-icon a-icon-star-small a-star-small-5 aok-align-bottom\").text.strip()\n",
    "    except AttributeError:\n",
    "        review_rating4 = '0'\n",
    "    \n",
    "    try:\n",
    "        # review count\n",
    "        review_count_parent4 = item4.find('div', class_=\"a-row a-size-small\")\n",
    "        review_count4 = review_count_parent4.find_all('span')[3].text.strip()\n",
    "    except AttributeError:\n",
    "        review_count4 = '0'\n",
    "        \n",
    "    result4 = (book_title4, author4, review_rating4, review_count4)\n",
    "    return result4\n",
    "\n",
    "def main4(search_term): \n",
    "    \"\"\"run main program routine\"\"\"\n",
    "    driver = webdriver.Chrome(executable_path=\"C://chromedriver.exe\")\n",
    "    \n",
    "    record4 = []\n",
    "    \n",
    "    url4 = get_url(search_term)\n",
    "    \n",
    "    for page in range(2, 76):\n",
    "        driver.get(url4.format(page))\n",
    "        soup4 = BeautifulSoup(driver.page_source, 'html.parser')\n",
    "        results4 = soup4.find_all('div', {'class': 'a-section a-spacing-medium'})\n",
    "        \n",
    "        for item4 in results4:\n",
    "            record4 = extract_record(item4)\n",
    "            if record4:    \n",
    "                records4.append(record4)\n",
    "                \n",
    "    driver.close()\n",
    "    # save the data to csv file\n",
    "    with open('Politics.csv', 'w', encoding='utf-8') as f:\n",
    "        writer = csv.writer(f)\n",
    "        writer.writerow(['Book Title', 'Author', 'Review Rating', 'Review Count'])\n",
    "        writer.writerows(records4)"
   ]
  },
  {
   "cell_type": "code",
   "execution_count": 1167,
   "metadata": {},
   "outputs": [],
   "source": [
    "main4('review rank')"
   ]
  },
  {
   "cell_type": "code",
   "execution_count": 1197,
   "metadata": {},
   "outputs": [],
   "source": [
    "politics = pd.read_csv('Politics.csv')"
   ]
  },
  {
   "cell_type": "code",
   "execution_count": 1186,
   "metadata": {
    "scrolled": true
   },
   "outputs": [
    {
     "data": {
      "text/html": [
       "<div>\n",
       "<style scoped>\n",
       "    .dataframe tbody tr th:only-of-type {\n",
       "        vertical-align: middle;\n",
       "    }\n",
       "\n",
       "    .dataframe tbody tr th {\n",
       "        vertical-align: top;\n",
       "    }\n",
       "\n",
       "    .dataframe thead th {\n",
       "        text-align: right;\n",
       "    }\n",
       "</style>\n",
       "<table border=\"1\" class=\"dataframe\">\n",
       "  <thead>\n",
       "    <tr style=\"text-align: right;\">\n",
       "      <th></th>\n",
       "      <th>Book Title</th>\n",
       "      <th>Author</th>\n",
       "      <th>Review Rating</th>\n",
       "      <th>Review Count</th>\n",
       "    </tr>\n",
       "  </thead>\n",
       "  <tbody>\n",
       "    <tr>\n",
       "      <th>0</th>\n",
       "      <td>Both Sides Now: A True Story of Love, Loss and...</td>\n",
       "      <td>Nancy Sharp</td>\n",
       "      <td>5.0 out of 5 stars</td>\n",
       "      <td>103</td>\n",
       "    </tr>\n",
       "    <tr>\n",
       "      <th>1</th>\n",
       "      <td>Esther the Wonder Pig: Changing the World One ...</td>\n",
       "      <td>Steve Jenkins</td>\n",
       "      <td>4.9 out of 5 stars</td>\n",
       "      <td>1,456</td>\n",
       "    </tr>\n",
       "    <tr>\n",
       "      <th>2</th>\n",
       "      <td>Discrimination and Disparities</td>\n",
       "      <td>Thomas Sowell</td>\n",
       "      <td>4.9 out of 5 stars</td>\n",
       "      <td>1,004</td>\n",
       "    </tr>\n",
       "    <tr>\n",
       "      <th>3</th>\n",
       "      <td>Black Labor, White Wealth : The Search for Pow...</td>\n",
       "      <td>Claud Anderson</td>\n",
       "      <td>4.9 out of 5 stars</td>\n",
       "      <td>904</td>\n",
       "    </tr>\n",
       "    <tr>\n",
       "      <th>4</th>\n",
       "      <td>Dirt to Soil: One Family’s Journey into Regene...</td>\n",
       "      <td>Gabe Brown</td>\n",
       "      <td>4.9 out of 5 stars</td>\n",
       "      <td>401</td>\n",
       "    </tr>\n",
       "    <tr>\n",
       "      <th>...</th>\n",
       "      <td>...</td>\n",
       "      <td>...</td>\n",
       "      <td>...</td>\n",
       "      <td>...</td>\n",
       "    </tr>\n",
       "    <tr>\n",
       "      <th>1179</th>\n",
       "      <td>Fast Food Nation: The Dark Side of the All-Ame...</td>\n",
       "      <td>Eric Schlosser</td>\n",
       "      <td>0</td>\n",
       "      <td>2,297</td>\n",
       "    </tr>\n",
       "    <tr>\n",
       "      <th>1180</th>\n",
       "      <td>Jack Kemp: The Bleeding-Heart Conservative Who...</td>\n",
       "      <td>Unspecified</td>\n",
       "      <td>0</td>\n",
       "      <td>58</td>\n",
       "    </tr>\n",
       "    <tr>\n",
       "      <th>1181</th>\n",
       "      <td>The Classic Treasury Of Aesop's Fables (Childr...</td>\n",
       "      <td>Unspecified</td>\n",
       "      <td>0</td>\n",
       "      <td>1,861</td>\n",
       "    </tr>\n",
       "    <tr>\n",
       "      <th>1182</th>\n",
       "      <td>The End of Faith</td>\n",
       "      <td>Unspecified</td>\n",
       "      <td>0</td>\n",
       "      <td>1,749</td>\n",
       "    </tr>\n",
       "    <tr>\n",
       "      <th>1183</th>\n",
       "      <td>The Mueller Report: The Findings of the Specia...</td>\n",
       "      <td>Unspecified</td>\n",
       "      <td>0</td>\n",
       "      <td>1,704</td>\n",
       "    </tr>\n",
       "  </tbody>\n",
       "</table>\n",
       "<p>1184 rows × 4 columns</p>\n",
       "</div>"
      ],
      "text/plain": [
       "                                             Book Title          Author  \\\n",
       "0     Both Sides Now: A True Story of Love, Loss and...     Nancy Sharp   \n",
       "1     Esther the Wonder Pig: Changing the World One ...   Steve Jenkins   \n",
       "2                        Discrimination and Disparities   Thomas Sowell   \n",
       "3     Black Labor, White Wealth : The Search for Pow...  Claud Anderson   \n",
       "4     Dirt to Soil: One Family’s Journey into Regene...      Gabe Brown   \n",
       "...                                                 ...             ...   \n",
       "1179  Fast Food Nation: The Dark Side of the All-Ame...  Eric Schlosser   \n",
       "1180  Jack Kemp: The Bleeding-Heart Conservative Who...     Unspecified   \n",
       "1181  The Classic Treasury Of Aesop's Fables (Childr...     Unspecified   \n",
       "1182                                   The End of Faith     Unspecified   \n",
       "1183  The Mueller Report: The Findings of the Specia...     Unspecified   \n",
       "\n",
       "           Review Rating Review Count  \n",
       "0     5.0 out of 5 stars          103  \n",
       "1     4.9 out of 5 stars        1,456  \n",
       "2     4.9 out of 5 stars        1,004  \n",
       "3     4.9 out of 5 stars          904  \n",
       "4     4.9 out of 5 stars          401  \n",
       "...                  ...          ...  \n",
       "1179                   0        2,297  \n",
       "1180                   0           58  \n",
       "1181                   0        1,861  \n",
       "1182                   0        1,749  \n",
       "1183                   0        1,704  \n",
       "\n",
       "[1184 rows x 4 columns]"
      ]
     },
     "execution_count": 1186,
     "metadata": {},
     "output_type": "execute_result"
    }
   ],
   "source": [
    "politics"
   ]
  },
  {
   "cell_type": "code",
   "execution_count": null,
   "metadata": {},
   "outputs": [],
   "source": []
  },
  {
   "cell_type": "markdown",
   "metadata": {},
   "source": [
    "#### SINCE ALL RATINGS ARE OUT OF 5, WE MAY KEEP ONLY THE RATING AND REMOVE THE EXTRA PART OF IT"
   ]
  },
  {
   "cell_type": "code",
   "execution_count": 846,
   "metadata": {},
   "outputs": [],
   "source": [
    "sociology['Review Rating'] = sociology['Review Rating'].apply(lambda x: x.split()[0])"
   ]
  },
  {
   "cell_type": "code",
   "execution_count": 847,
   "metadata": {
    "scrolled": true
   },
   "outputs": [],
   "source": [
    "sociology['Review Rating'] = pd.to_numeric(sociology['Review Rating'])"
   ]
  },
  {
   "cell_type": "code",
   "execution_count": null,
   "metadata": {},
   "outputs": [],
   "source": []
  },
  {
   "cell_type": "code",
   "execution_count": 850,
   "metadata": {},
   "outputs": [],
   "source": [
    "literature = lit_fiction"
   ]
  },
  {
   "cell_type": "code",
   "execution_count": 852,
   "metadata": {},
   "outputs": [],
   "source": [
    "literature['Review Rating'] = literature['Review Rating'].apply(lambda x: x.split()[0])"
   ]
  },
  {
   "cell_type": "code",
   "execution_count": 853,
   "metadata": {},
   "outputs": [],
   "source": [
    "literature['Review Rating'] = pd.to_numeric(literature['Review Rating'])"
   ]
  },
  {
   "cell_type": "code",
   "execution_count": null,
   "metadata": {},
   "outputs": [],
   "source": []
  },
  {
   "cell_type": "code",
   "execution_count": 854,
   "metadata": {},
   "outputs": [],
   "source": [
    "bus_money['Review Rating'] = bus_money['Review Rating'].apply(lambda x: x.split()[0])"
   ]
  },
  {
   "cell_type": "code",
   "execution_count": 855,
   "metadata": {},
   "outputs": [],
   "source": [
    "bus_money['Review Rating'] = pd.to_numeric(bus_money['Review Rating'])"
   ]
  },
  {
   "cell_type": "code",
   "execution_count": null,
   "metadata": {},
   "outputs": [],
   "source": []
  },
  {
   "cell_type": "code",
   "execution_count": 856,
   "metadata": {},
   "outputs": [],
   "source": [
    "religion['Review Rating'] = religion['Review Rating'].apply(lambda x: x.split()[0])"
   ]
  },
  {
   "cell_type": "code",
   "execution_count": 857,
   "metadata": {},
   "outputs": [],
   "source": [
    "religion['Review Rating'] = pd.to_numeric(religion['Review Rating'])"
   ]
  },
  {
   "cell_type": "code",
   "execution_count": null,
   "metadata": {},
   "outputs": [],
   "source": []
  },
  {
   "cell_type": "code",
   "execution_count": 858,
   "metadata": {},
   "outputs": [],
   "source": [
    "politics['Review Rating'] = politics['Review Rating'].apply(lambda x: x.split()[0])"
   ]
  },
  {
   "cell_type": "code",
   "execution_count": 859,
   "metadata": {},
   "outputs": [],
   "source": [
    "politics['Review Rating'] = pd.to_numeric(politics['Review Rating'])"
   ]
  },
  {
   "cell_type": "markdown",
   "metadata": {},
   "source": [
    "## GETTING THE VALUE COUNTS OF THE RATINGS"
   ]
  },
  {
   "cell_type": "code",
   "execution_count": 1071,
   "metadata": {
    "scrolled": true
   },
   "outputs": [
    {
     "data": {
      "text/html": [
       "<div>\n",
       "<style scoped>\n",
       "    .dataframe tbody tr th:only-of-type {\n",
       "        vertical-align: middle;\n",
       "    }\n",
       "\n",
       "    .dataframe tbody tr th {\n",
       "        vertical-align: top;\n",
       "    }\n",
       "\n",
       "    .dataframe thead th {\n",
       "        text-align: right;\n",
       "    }\n",
       "</style>\n",
       "<table border=\"1\" class=\"dataframe\">\n",
       "  <thead>\n",
       "    <tr style=\"text-align: right;\">\n",
       "      <th></th>\n",
       "      <th>Book Title</th>\n",
       "      <th>Author</th>\n",
       "      <th>Review Rating</th>\n",
       "      <th>Review Count</th>\n",
       "    </tr>\n",
       "  </thead>\n",
       "  <tbody>\n",
       "    <tr>\n",
       "      <th>0</th>\n",
       "      <td>Manga in Theory and Practice: The Craft of Cre...</td>\n",
       "      <td>Hirohiko Araki</td>\n",
       "      <td>4.9</td>\n",
       "      <td>733</td>\n",
       "    </tr>\n",
       "    <tr>\n",
       "      <th>1</th>\n",
       "      <td>The Dance Class: Book One in the series: Mama ...</td>\n",
       "      <td>Liza K Womack</td>\n",
       "      <td>4.9</td>\n",
       "      <td>289</td>\n",
       "    </tr>\n",
       "    <tr>\n",
       "      <th>2</th>\n",
       "      <td>Amish Cooking Class - The Blessing</td>\n",
       "      <td>Wanda E. Brunstetter</td>\n",
       "      <td>4.9</td>\n",
       "      <td>247</td>\n",
       "    </tr>\n",
       "    <tr>\n",
       "      <th>3</th>\n",
       "      <td>The Sweetest Surrender (Falling For A Rose Boo...</td>\n",
       "      <td>Stephanie Nicole Norris</td>\n",
       "      <td>4.9</td>\n",
       "      <td>186</td>\n",
       "    </tr>\n",
       "    <tr>\n",
       "      <th>4</th>\n",
       "      <td>When Darkness Falls, He Doesn't Catch It</td>\n",
       "      <td>Ross Patterson</td>\n",
       "      <td>4.9</td>\n",
       "      <td>146</td>\n",
       "    </tr>\n",
       "    <tr>\n",
       "      <th>...</th>\n",
       "      <td>...</td>\n",
       "      <td>...</td>\n",
       "      <td>...</td>\n",
       "      <td>...</td>\n",
       "    </tr>\n",
       "    <tr>\n",
       "      <th>1227</th>\n",
       "      <td>The Sub-American Dream</td>\n",
       "      <td>Unspecified</td>\n",
       "      <td>5.0</td>\n",
       "      <td>7</td>\n",
       "    </tr>\n",
       "    <tr>\n",
       "      <th>1228</th>\n",
       "      <td>Orange Sun</td>\n",
       "      <td>Gerald A. Loeb</td>\n",
       "      <td>5.0</td>\n",
       "      <td>7</td>\n",
       "    </tr>\n",
       "    <tr>\n",
       "      <th>1229</th>\n",
       "      <td>Life Is Unfinished Without the Language of Poetry</td>\n",
       "      <td>Unspecified</td>\n",
       "      <td>5.0</td>\n",
       "      <td>7</td>\n",
       "    </tr>\n",
       "    <tr>\n",
       "      <th>1230</th>\n",
       "      <td>There Is Only Lampyridae</td>\n",
       "      <td>Unspecified</td>\n",
       "      <td>5.0</td>\n",
       "      <td>7</td>\n",
       "    </tr>\n",
       "    <tr>\n",
       "      <th>1231</th>\n",
       "      <td>Class (Crossroads Poetry)</td>\n",
       "      <td>Unspecified</td>\n",
       "      <td>5.0</td>\n",
       "      <td>7</td>\n",
       "    </tr>\n",
       "  </tbody>\n",
       "</table>\n",
       "<p>1232 rows × 4 columns</p>\n",
       "</div>"
      ],
      "text/plain": [
       "                                             Book Title  \\\n",
       "0     Manga in Theory and Practice: The Craft of Cre...   \n",
       "1     The Dance Class: Book One in the series: Mama ...   \n",
       "2                    Amish Cooking Class - The Blessing   \n",
       "3     The Sweetest Surrender (Falling For A Rose Boo...   \n",
       "4              When Darkness Falls, He Doesn't Catch It   \n",
       "...                                                 ...   \n",
       "1227                             The Sub-American Dream   \n",
       "1228                                         Orange Sun   \n",
       "1229  Life Is Unfinished Without the Language of Poetry   \n",
       "1230                           There Is Only Lampyridae   \n",
       "1231                          Class (Crossroads Poetry)   \n",
       "\n",
       "                       Author  Review Rating Review Count  \n",
       "0              Hirohiko Araki            4.9          733  \n",
       "1               Liza K Womack            4.9          289  \n",
       "2        Wanda E. Brunstetter            4.9          247  \n",
       "3     Stephanie Nicole Norris            4.9          186  \n",
       "4              Ross Patterson            4.9          146  \n",
       "...                       ...            ...          ...  \n",
       "1227              Unspecified            5.0            7  \n",
       "1228           Gerald A. Loeb            5.0            7  \n",
       "1229              Unspecified            5.0            7  \n",
       "1230              Unspecified            5.0            7  \n",
       "1231              Unspecified            5.0            7  \n",
       "\n",
       "[1232 rows x 4 columns]"
      ]
     },
     "execution_count": 1071,
     "metadata": {},
     "output_type": "execute_result"
    }
   ],
   "source": [
    "# FOR LITERATURE CATEGORY\n",
    "literature"
   ]
  },
  {
   "cell_type": "code",
   "execution_count": 1095,
   "metadata": {},
   "outputs": [],
   "source": [
    "pliterature = literature[['Review Rating']]"
   ]
  },
  {
   "cell_type": "code",
   "execution_count": 1096,
   "metadata": {},
   "outputs": [
    {
     "data": {
      "text/html": [
       "<div>\n",
       "<style scoped>\n",
       "    .dataframe tbody tr th:only-of-type {\n",
       "        vertical-align: middle;\n",
       "    }\n",
       "\n",
       "    .dataframe tbody tr th {\n",
       "        vertical-align: top;\n",
       "    }\n",
       "\n",
       "    .dataframe thead th {\n",
       "        text-align: right;\n",
       "    }\n",
       "</style>\n",
       "<table border=\"1\" class=\"dataframe\">\n",
       "  <thead>\n",
       "    <tr style=\"text-align: right;\">\n",
       "      <th></th>\n",
       "      <th>Review Rating</th>\n",
       "    </tr>\n",
       "  </thead>\n",
       "  <tbody>\n",
       "    <tr>\n",
       "      <th>0</th>\n",
       "      <td>4.9</td>\n",
       "    </tr>\n",
       "    <tr>\n",
       "      <th>1</th>\n",
       "      <td>4.9</td>\n",
       "    </tr>\n",
       "    <tr>\n",
       "      <th>2</th>\n",
       "      <td>4.9</td>\n",
       "    </tr>\n",
       "    <tr>\n",
       "      <th>3</th>\n",
       "      <td>4.9</td>\n",
       "    </tr>\n",
       "    <tr>\n",
       "      <th>4</th>\n",
       "      <td>4.9</td>\n",
       "    </tr>\n",
       "    <tr>\n",
       "      <th>...</th>\n",
       "      <td>...</td>\n",
       "    </tr>\n",
       "    <tr>\n",
       "      <th>1227</th>\n",
       "      <td>5.0</td>\n",
       "    </tr>\n",
       "    <tr>\n",
       "      <th>1228</th>\n",
       "      <td>5.0</td>\n",
       "    </tr>\n",
       "    <tr>\n",
       "      <th>1229</th>\n",
       "      <td>5.0</td>\n",
       "    </tr>\n",
       "    <tr>\n",
       "      <th>1230</th>\n",
       "      <td>5.0</td>\n",
       "    </tr>\n",
       "    <tr>\n",
       "      <th>1231</th>\n",
       "      <td>5.0</td>\n",
       "    </tr>\n",
       "  </tbody>\n",
       "</table>\n",
       "<p>1232 rows × 1 columns</p>\n",
       "</div>"
      ],
      "text/plain": [
       "      Review Rating\n",
       "0               4.9\n",
       "1               4.9\n",
       "2               4.9\n",
       "3               4.9\n",
       "4               4.9\n",
       "...             ...\n",
       "1227            5.0\n",
       "1228            5.0\n",
       "1229            5.0\n",
       "1230            5.0\n",
       "1231            5.0\n",
       "\n",
       "[1232 rows x 1 columns]"
      ]
     },
     "execution_count": 1096,
     "metadata": {},
     "output_type": "execute_result"
    }
   ],
   "source": [
    "pliterature"
   ]
  },
  {
   "cell_type": "code",
   "execution_count": 1097,
   "metadata": {},
   "outputs": [
    {
     "name": "stderr",
     "output_type": "stream",
     "text": [
      "C:\\Users\\chidiebere\\anaconda3\\lib\\site-packages\\ipykernel_launcher.py:3: SettingWithCopyWarning: \n",
      "A value is trying to be set on a copy of a slice from a DataFrame.\n",
      "Try using .loc[row_indexer,col_indexer] = value instead\n",
      "\n",
      "See the caveats in the documentation: https://pandas.pydata.org/pandas-docs/stable/user_guide/indexing.html#returning-a-view-versus-a-copy\n",
      "  This is separate from the ipykernel package so we can avoid doing imports until\n"
     ]
    }
   ],
   "source": [
    "# convert the review ratings to range and rename\n",
    "cut_labels_5 = ['0 star','1 star', '2 stars', '3 stars', '4 stars', '5 stars']\n",
    "cut_bins = [-1, 0.9, 1.9, 2.9, 3.9, 4.9, 5]\n",
    "pliterature['Review Rating'] = pd.cut(pliterature['Review Rating'], bins = cut_bins, labels = cut_labels_5)\n"
   ]
  },
  {
   "cell_type": "code",
   "execution_count": 1098,
   "metadata": {},
   "outputs": [
    {
     "name": "stderr",
     "output_type": "stream",
     "text": [
      "C:\\Users\\chidiebere\\anaconda3\\lib\\site-packages\\ipykernel_launcher.py:1: SettingWithCopyWarning: \n",
      "A value is trying to be set on a copy of a slice from a DataFrame.\n",
      "Try using .loc[row_indexer,col_indexer] = value instead\n",
      "\n",
      "See the caveats in the documentation: https://pandas.pydata.org/pandas-docs/stable/user_guide/indexing.html#returning-a-view-versus-a-copy\n",
      "  \"\"\"Entry point for launching an IPython kernel.\n"
     ]
    }
   ],
   "source": [
    "# add value counts to the revew ratings\n",
    "pliterature['Freq'] = pliterature['Review Rating'].map(pliterature['Review Rating'].value_counts())"
   ]
  },
  {
   "cell_type": "code",
   "execution_count": 1099,
   "metadata": {},
   "outputs": [
    {
     "data": {
      "text/html": [
       "<div>\n",
       "<style scoped>\n",
       "    .dataframe tbody tr th:only-of-type {\n",
       "        vertical-align: middle;\n",
       "    }\n",
       "\n",
       "    .dataframe tbody tr th {\n",
       "        vertical-align: top;\n",
       "    }\n",
       "\n",
       "    .dataframe thead th {\n",
       "        text-align: right;\n",
       "    }\n",
       "</style>\n",
       "<table border=\"1\" class=\"dataframe\">\n",
       "  <thead>\n",
       "    <tr style=\"text-align: right;\">\n",
       "      <th></th>\n",
       "      <th>Review Rating</th>\n",
       "      <th>Freq</th>\n",
       "    </tr>\n",
       "  </thead>\n",
       "  <tbody>\n",
       "    <tr>\n",
       "      <th>0</th>\n",
       "      <td>4 stars</td>\n",
       "      <td>257</td>\n",
       "    </tr>\n",
       "    <tr>\n",
       "      <th>1</th>\n",
       "      <td>4 stars</td>\n",
       "      <td>257</td>\n",
       "    </tr>\n",
       "    <tr>\n",
       "      <th>2</th>\n",
       "      <td>4 stars</td>\n",
       "      <td>257</td>\n",
       "    </tr>\n",
       "    <tr>\n",
       "      <th>3</th>\n",
       "      <td>4 stars</td>\n",
       "      <td>257</td>\n",
       "    </tr>\n",
       "    <tr>\n",
       "      <th>4</th>\n",
       "      <td>4 stars</td>\n",
       "      <td>257</td>\n",
       "    </tr>\n",
       "    <tr>\n",
       "      <th>...</th>\n",
       "      <td>...</td>\n",
       "      <td>...</td>\n",
       "    </tr>\n",
       "    <tr>\n",
       "      <th>1227</th>\n",
       "      <td>5 stars</td>\n",
       "      <td>81</td>\n",
       "    </tr>\n",
       "    <tr>\n",
       "      <th>1228</th>\n",
       "      <td>5 stars</td>\n",
       "      <td>81</td>\n",
       "    </tr>\n",
       "    <tr>\n",
       "      <th>1229</th>\n",
       "      <td>5 stars</td>\n",
       "      <td>81</td>\n",
       "    </tr>\n",
       "    <tr>\n",
       "      <th>1230</th>\n",
       "      <td>5 stars</td>\n",
       "      <td>81</td>\n",
       "    </tr>\n",
       "    <tr>\n",
       "      <th>1231</th>\n",
       "      <td>5 stars</td>\n",
       "      <td>81</td>\n",
       "    </tr>\n",
       "  </tbody>\n",
       "</table>\n",
       "<p>1232 rows × 2 columns</p>\n",
       "</div>"
      ],
      "text/plain": [
       "     Review Rating  Freq\n",
       "0          4 stars   257\n",
       "1          4 stars   257\n",
       "2          4 stars   257\n",
       "3          4 stars   257\n",
       "4          4 stars   257\n",
       "...            ...   ...\n",
       "1227       5 stars    81\n",
       "1228       5 stars    81\n",
       "1229       5 stars    81\n",
       "1230       5 stars    81\n",
       "1231       5 stars    81\n",
       "\n",
       "[1232 rows x 2 columns]"
      ]
     },
     "execution_count": 1099,
     "metadata": {},
     "output_type": "execute_result"
    }
   ],
   "source": [
    "pliterature"
   ]
  },
  {
   "cell_type": "code",
   "execution_count": 1103,
   "metadata": {},
   "outputs": [],
   "source": [
    "stat_lit = pliterature[['Review Rating', 'Freq']].sort_values(by = 'Review Rating', ascending = False)"
   ]
  },
  {
   "cell_type": "code",
   "execution_count": 1104,
   "metadata": {},
   "outputs": [],
   "source": [
    "# set review ratings as index\n",
    "stat_lit = stat_lit.set_index('Review Rating')"
   ]
  },
  {
   "cell_type": "code",
   "execution_count": 1106,
   "metadata": {},
   "outputs": [],
   "source": [
    "# eliminate duplicate index\n",
    "stat_lit = stat_lit[~stat_lit.index.duplicated(keep = 'last')]"
   ]
  },
  {
   "cell_type": "code",
   "execution_count": 1107,
   "metadata": {},
   "outputs": [
    {
     "data": {
      "text/html": [
       "<div>\n",
       "<style scoped>\n",
       "    .dataframe tbody tr th:only-of-type {\n",
       "        vertical-align: middle;\n",
       "    }\n",
       "\n",
       "    .dataframe tbody tr th {\n",
       "        vertical-align: top;\n",
       "    }\n",
       "\n",
       "    .dataframe thead th {\n",
       "        text-align: right;\n",
       "    }\n",
       "</style>\n",
       "<table border=\"1\" class=\"dataframe\">\n",
       "  <thead>\n",
       "    <tr style=\"text-align: right;\">\n",
       "      <th></th>\n",
       "      <th>Freq</th>\n",
       "    </tr>\n",
       "    <tr>\n",
       "      <th>Review Rating</th>\n",
       "      <th></th>\n",
       "    </tr>\n",
       "  </thead>\n",
       "  <tbody>\n",
       "    <tr>\n",
       "      <th>5 stars</th>\n",
       "      <td>81</td>\n",
       "    </tr>\n",
       "    <tr>\n",
       "      <th>4 stars</th>\n",
       "      <td>257</td>\n",
       "    </tr>\n",
       "    <tr>\n",
       "      <th>0 star</th>\n",
       "      <td>894</td>\n",
       "    </tr>\n",
       "  </tbody>\n",
       "</table>\n",
       "</div>"
      ],
      "text/plain": [
       "               Freq\n",
       "Review Rating      \n",
       "5 stars          81\n",
       "4 stars         257\n",
       "0 star          894"
      ]
     },
     "execution_count": 1107,
     "metadata": {},
     "output_type": "execute_result"
    }
   ],
   "source": [
    "stat_lit"
   ]
  },
  {
   "cell_type": "code",
   "execution_count": null,
   "metadata": {},
   "outputs": [],
   "source": []
  },
  {
   "cell_type": "code",
   "execution_count": null,
   "metadata": {},
   "outputs": [],
   "source": [
    "# FOR SOCIOLOGY CATEGORY\n",
    "sociology"
   ]
  },
  {
   "cell_type": "code",
   "execution_count": 1109,
   "metadata": {},
   "outputs": [],
   "source": [
    "psociology = sociology[['Review Rating']]"
   ]
  },
  {
   "cell_type": "code",
   "execution_count": 1111,
   "metadata": {},
   "outputs": [
    {
     "name": "stderr",
     "output_type": "stream",
     "text": [
      "C:\\Users\\chidiebere\\anaconda3\\lib\\site-packages\\ipykernel_launcher.py:3: SettingWithCopyWarning: \n",
      "A value is trying to be set on a copy of a slice from a DataFrame.\n",
      "Try using .loc[row_indexer,col_indexer] = value instead\n",
      "\n",
      "See the caveats in the documentation: https://pandas.pydata.org/pandas-docs/stable/user_guide/indexing.html#returning-a-view-versus-a-copy\n",
      "  This is separate from the ipykernel package so we can avoid doing imports until\n"
     ]
    }
   ],
   "source": [
    "# convert the review ratings to range and rename\n",
    "cut_labels_5 = ['0 star','1 star', '2 stars', '3 stars', '4 stars', '5 stars']\n",
    "cut_bins = [-1, 0.9, 1.9, 2.9, 3.9, 4.9, 5]\n",
    "psociology['Review Rating'] = pd.cut(psociology['Review Rating'], bins = cut_bins, labels = cut_labels_5)\n"
   ]
  },
  {
   "cell_type": "code",
   "execution_count": 1112,
   "metadata": {},
   "outputs": [
    {
     "name": "stderr",
     "output_type": "stream",
     "text": [
      "C:\\Users\\chidiebere\\anaconda3\\lib\\site-packages\\ipykernel_launcher.py:1: SettingWithCopyWarning: \n",
      "A value is trying to be set on a copy of a slice from a DataFrame.\n",
      "Try using .loc[row_indexer,col_indexer] = value instead\n",
      "\n",
      "See the caveats in the documentation: https://pandas.pydata.org/pandas-docs/stable/user_guide/indexing.html#returning-a-view-versus-a-copy\n",
      "  \"\"\"Entry point for launching an IPython kernel.\n"
     ]
    }
   ],
   "source": [
    "#add value counts to review ratings\n",
    "psociology['Freq'] = psociology['Review Rating'].map(psociology['Review Rating'].value_counts())"
   ]
  },
  {
   "cell_type": "code",
   "execution_count": 1113,
   "metadata": {},
   "outputs": [
    {
     "data": {
      "text/html": [
       "<div>\n",
       "<style scoped>\n",
       "    .dataframe tbody tr th:only-of-type {\n",
       "        vertical-align: middle;\n",
       "    }\n",
       "\n",
       "    .dataframe tbody tr th {\n",
       "        vertical-align: top;\n",
       "    }\n",
       "\n",
       "    .dataframe thead th {\n",
       "        text-align: right;\n",
       "    }\n",
       "</style>\n",
       "<table border=\"1\" class=\"dataframe\">\n",
       "  <thead>\n",
       "    <tr style=\"text-align: right;\">\n",
       "      <th></th>\n",
       "      <th>Review Rating</th>\n",
       "      <th>Freq</th>\n",
       "    </tr>\n",
       "  </thead>\n",
       "  <tbody>\n",
       "    <tr>\n",
       "      <th>0</th>\n",
       "      <td>4 stars</td>\n",
       "      <td>108</td>\n",
       "    </tr>\n",
       "    <tr>\n",
       "      <th>1</th>\n",
       "      <td>4 stars</td>\n",
       "      <td>108</td>\n",
       "    </tr>\n",
       "    <tr>\n",
       "      <th>2</th>\n",
       "      <td>4 stars</td>\n",
       "      <td>108</td>\n",
       "    </tr>\n",
       "    <tr>\n",
       "      <th>3</th>\n",
       "      <td>4 stars</td>\n",
       "      <td>108</td>\n",
       "    </tr>\n",
       "    <tr>\n",
       "      <th>4</th>\n",
       "      <td>4 stars</td>\n",
       "      <td>108</td>\n",
       "    </tr>\n",
       "    <tr>\n",
       "      <th>...</th>\n",
       "      <td>...</td>\n",
       "      <td>...</td>\n",
       "    </tr>\n",
       "    <tr>\n",
       "      <th>1195</th>\n",
       "      <td>5 stars</td>\n",
       "      <td>183</td>\n",
       "    </tr>\n",
       "    <tr>\n",
       "      <th>1196</th>\n",
       "      <td>5 stars</td>\n",
       "      <td>183</td>\n",
       "    </tr>\n",
       "    <tr>\n",
       "      <th>1197</th>\n",
       "      <td>5 stars</td>\n",
       "      <td>183</td>\n",
       "    </tr>\n",
       "    <tr>\n",
       "      <th>1198</th>\n",
       "      <td>5 stars</td>\n",
       "      <td>183</td>\n",
       "    </tr>\n",
       "    <tr>\n",
       "      <th>1199</th>\n",
       "      <td>5 stars</td>\n",
       "      <td>183</td>\n",
       "    </tr>\n",
       "  </tbody>\n",
       "</table>\n",
       "<p>1200 rows × 2 columns</p>\n",
       "</div>"
      ],
      "text/plain": [
       "     Review Rating  Freq\n",
       "0          4 stars   108\n",
       "1          4 stars   108\n",
       "2          4 stars   108\n",
       "3          4 stars   108\n",
       "4          4 stars   108\n",
       "...            ...   ...\n",
       "1195       5 stars   183\n",
       "1196       5 stars   183\n",
       "1197       5 stars   183\n",
       "1198       5 stars   183\n",
       "1199       5 stars   183\n",
       "\n",
       "[1200 rows x 2 columns]"
      ]
     },
     "execution_count": 1113,
     "metadata": {},
     "output_type": "execute_result"
    }
   ],
   "source": [
    "psociology"
   ]
  },
  {
   "cell_type": "code",
   "execution_count": 1115,
   "metadata": {},
   "outputs": [],
   "source": [
    "stat_sociology = psociology[['Review Rating', 'Freq']].sort_values(by = 'Review Rating', ascending = False)\n",
    "\n",
    "# set review rating as index\n",
    "stat_sociology = stat_sociology.set_index('Review Rating')\n",
    "\n",
    "#eliminate duplicate index\n",
    "stat_sociology = stat_sociology[~stat_sociology.index.duplicated(keep = 'last')]"
   ]
  },
  {
   "cell_type": "code",
   "execution_count": 1116,
   "metadata": {},
   "outputs": [
    {
     "data": {
      "text/html": [
       "<div>\n",
       "<style scoped>\n",
       "    .dataframe tbody tr th:only-of-type {\n",
       "        vertical-align: middle;\n",
       "    }\n",
       "\n",
       "    .dataframe tbody tr th {\n",
       "        vertical-align: top;\n",
       "    }\n",
       "\n",
       "    .dataframe thead th {\n",
       "        text-align: right;\n",
       "    }\n",
       "</style>\n",
       "<table border=\"1\" class=\"dataframe\">\n",
       "  <thead>\n",
       "    <tr style=\"text-align: right;\">\n",
       "      <th></th>\n",
       "      <th>Freq</th>\n",
       "    </tr>\n",
       "    <tr>\n",
       "      <th>Review Rating</th>\n",
       "      <th></th>\n",
       "    </tr>\n",
       "  </thead>\n",
       "  <tbody>\n",
       "    <tr>\n",
       "      <th>5 stars</th>\n",
       "      <td>183</td>\n",
       "    </tr>\n",
       "    <tr>\n",
       "      <th>4 stars</th>\n",
       "      <td>108</td>\n",
       "    </tr>\n",
       "    <tr>\n",
       "      <th>0 star</th>\n",
       "      <td>909</td>\n",
       "    </tr>\n",
       "  </tbody>\n",
       "</table>\n",
       "</div>"
      ],
      "text/plain": [
       "               Freq\n",
       "Review Rating      \n",
       "5 stars         183\n",
       "4 stars         108\n",
       "0 star          909"
      ]
     },
     "execution_count": 1116,
     "metadata": {},
     "output_type": "execute_result"
    }
   ],
   "source": [
    "stat_sociology"
   ]
  },
  {
   "cell_type": "code",
   "execution_count": null,
   "metadata": {},
   "outputs": [],
   "source": []
  },
  {
   "cell_type": "code",
   "execution_count": 1117,
   "metadata": {},
   "outputs": [
    {
     "data": {
      "text/html": [
       "<div>\n",
       "<style scoped>\n",
       "    .dataframe tbody tr th:only-of-type {\n",
       "        vertical-align: middle;\n",
       "    }\n",
       "\n",
       "    .dataframe tbody tr th {\n",
       "        vertical-align: top;\n",
       "    }\n",
       "\n",
       "    .dataframe thead th {\n",
       "        text-align: right;\n",
       "    }\n",
       "</style>\n",
       "<table border=\"1\" class=\"dataframe\">\n",
       "  <thead>\n",
       "    <tr style=\"text-align: right;\">\n",
       "      <th></th>\n",
       "      <th>Book Title</th>\n",
       "      <th>Author</th>\n",
       "      <th>Review Rating</th>\n",
       "      <th>Review Count</th>\n",
       "    </tr>\n",
       "  </thead>\n",
       "  <tbody>\n",
       "    <tr>\n",
       "      <th>0</th>\n",
       "      <td>The Clean Money Revolution: Reinventing Power,...</td>\n",
       "      <td>Joel Solomon</td>\n",
       "      <td>5.0</td>\n",
       "      <td>79</td>\n",
       "    </tr>\n",
       "    <tr>\n",
       "      <th>1</th>\n",
       "      <td>Fear Is Not the Boss of You: How to Get Out of...</td>\n",
       "      <td>Jennifer Allwood</td>\n",
       "      <td>4.9</td>\n",
       "      <td>1,126</td>\n",
       "    </tr>\n",
       "    <tr>\n",
       "      <th>2</th>\n",
       "      <td>Smuggler's Cove: Exotic Cocktails, Rum, and th...</td>\n",
       "      <td>Martin Cate</td>\n",
       "      <td>4.9</td>\n",
       "      <td>1,093</td>\n",
       "    </tr>\n",
       "    <tr>\n",
       "      <th>3</th>\n",
       "      <td>Discrimination and Disparities</td>\n",
       "      <td>Thomas Sowell</td>\n",
       "      <td>4.9</td>\n",
       "      <td>1,001</td>\n",
       "    </tr>\n",
       "    <tr>\n",
       "      <th>4</th>\n",
       "      <td>Do It! Speaking: 77 Instant-Action Ideas to Ma...</td>\n",
       "      <td>David Newman</td>\n",
       "      <td>4.9</td>\n",
       "      <td>116</td>\n",
       "    </tr>\n",
       "    <tr>\n",
       "      <th>...</th>\n",
       "      <td>...</td>\n",
       "      <td>...</td>\n",
       "      <td>...</td>\n",
       "      <td>...</td>\n",
       "    </tr>\n",
       "    <tr>\n",
       "      <th>1243</th>\n",
       "      <td>RCM--Gateway to World Class Maintenance</td>\n",
       "      <td>Anthony M. Smith</td>\n",
       "      <td>5.0</td>\n",
       "      <td>4</td>\n",
       "    </tr>\n",
       "    <tr>\n",
       "      <th>1244</th>\n",
       "      <td>Teacher Strike!: Public Education and the Maki...</td>\n",
       "      <td>Jon Shelton</td>\n",
       "      <td>5.0</td>\n",
       "      <td>4</td>\n",
       "    </tr>\n",
       "    <tr>\n",
       "      <th>1245</th>\n",
       "      <td>Customer Service Management Training 101: Quic...</td>\n",
       "      <td>Renee Evenson</td>\n",
       "      <td>0.0</td>\n",
       "      <td>8</td>\n",
       "    </tr>\n",
       "    <tr>\n",
       "      <th>1246</th>\n",
       "      <td>Knock Your Socks Off Service Recovery</td>\n",
       "      <td>Ron Zemke</td>\n",
       "      <td>5.0</td>\n",
       "      <td>4</td>\n",
       "    </tr>\n",
       "    <tr>\n",
       "      <th>1247</th>\n",
       "      <td>Counterparty Credit Risk, Collateral and Fundi...</td>\n",
       "      <td>Damiano Brigo</td>\n",
       "      <td>0.0</td>\n",
       "      <td>8</td>\n",
       "    </tr>\n",
       "  </tbody>\n",
       "</table>\n",
       "<p>1248 rows × 4 columns</p>\n",
       "</div>"
      ],
      "text/plain": [
       "                                             Book Title            Author  \\\n",
       "0     The Clean Money Revolution: Reinventing Power,...      Joel Solomon   \n",
       "1     Fear Is Not the Boss of You: How to Get Out of...  Jennifer Allwood   \n",
       "2     Smuggler's Cove: Exotic Cocktails, Rum, and th...       Martin Cate   \n",
       "3                        Discrimination and Disparities     Thomas Sowell   \n",
       "4     Do It! Speaking: 77 Instant-Action Ideas to Ma...      David Newman   \n",
       "...                                                 ...               ...   \n",
       "1243            RCM--Gateway to World Class Maintenance  Anthony M. Smith   \n",
       "1244  Teacher Strike!: Public Education and the Maki...       Jon Shelton   \n",
       "1245  Customer Service Management Training 101: Quic...     Renee Evenson   \n",
       "1246              Knock Your Socks Off Service Recovery         Ron Zemke   \n",
       "1247  Counterparty Credit Risk, Collateral and Fundi...     Damiano Brigo   \n",
       "\n",
       "      Review Rating Review Count  \n",
       "0               5.0           79  \n",
       "1               4.9        1,126  \n",
       "2               4.9        1,093  \n",
       "3               4.9        1,001  \n",
       "4               4.9          116  \n",
       "...             ...          ...  \n",
       "1243            5.0            4  \n",
       "1244            5.0            4  \n",
       "1245            0.0            8  \n",
       "1246            5.0            4  \n",
       "1247            0.0            8  \n",
       "\n",
       "[1248 rows x 4 columns]"
      ]
     },
     "execution_count": 1117,
     "metadata": {},
     "output_type": "execute_result"
    }
   ],
   "source": [
    "# FOR BUSINESS AND MONEY CATEGORY\n",
    "bus_money"
   ]
  },
  {
   "cell_type": "code",
   "execution_count": 1118,
   "metadata": {},
   "outputs": [],
   "source": [
    "pbus_money = bus_money[['Review Rating']]"
   ]
  },
  {
   "cell_type": "code",
   "execution_count": 1119,
   "metadata": {},
   "outputs": [
    {
     "name": "stderr",
     "output_type": "stream",
     "text": [
      "C:\\Users\\chidiebere\\anaconda3\\lib\\site-packages\\ipykernel_launcher.py:4: SettingWithCopyWarning: \n",
      "A value is trying to be set on a copy of a slice from a DataFrame.\n",
      "Try using .loc[row_indexer,col_indexer] = value instead\n",
      "\n",
      "See the caveats in the documentation: https://pandas.pydata.org/pandas-docs/stable/user_guide/indexing.html#returning-a-view-versus-a-copy\n",
      "  after removing the cwd from sys.path.\n"
     ]
    }
   ],
   "source": [
    "# convert the review ratings to range and rename\n",
    "cut_labels_5 = ['0 star','1 star', '2 stars', '3 stars', '4 stars', '5 stars']\n",
    "cut_bins = [-1, 0.9, 1.9, 2.9, 3.9, 4.9, 5]\n",
    "pbus_money['Review Rating'] = pd.cut(bus_money['Review Rating'], bins = cut_bins, labels = cut_labels_5)\n"
   ]
  },
  {
   "cell_type": "code",
   "execution_count": 1120,
   "metadata": {},
   "outputs": [
    {
     "name": "stderr",
     "output_type": "stream",
     "text": [
      "C:\\Users\\chidiebere\\anaconda3\\lib\\site-packages\\ipykernel_launcher.py:2: SettingWithCopyWarning: \n",
      "A value is trying to be set on a copy of a slice from a DataFrame.\n",
      "Try using .loc[row_indexer,col_indexer] = value instead\n",
      "\n",
      "See the caveats in the documentation: https://pandas.pydata.org/pandas-docs/stable/user_guide/indexing.html#returning-a-view-versus-a-copy\n",
      "  \n"
     ]
    }
   ],
   "source": [
    "#add value counts to review ratings\n",
    "pbus_money['Freq'] = pbus_money['Review Rating'].map(pbus_money['Review Rating'].value_counts())"
   ]
  },
  {
   "cell_type": "code",
   "execution_count": 1121,
   "metadata": {},
   "outputs": [
    {
     "data": {
      "text/html": [
       "<div>\n",
       "<style scoped>\n",
       "    .dataframe tbody tr th:only-of-type {\n",
       "        vertical-align: middle;\n",
       "    }\n",
       "\n",
       "    .dataframe tbody tr th {\n",
       "        vertical-align: top;\n",
       "    }\n",
       "\n",
       "    .dataframe thead th {\n",
       "        text-align: right;\n",
       "    }\n",
       "</style>\n",
       "<table border=\"1\" class=\"dataframe\">\n",
       "  <thead>\n",
       "    <tr style=\"text-align: right;\">\n",
       "      <th></th>\n",
       "      <th>Review Rating</th>\n",
       "      <th>Freq</th>\n",
       "    </tr>\n",
       "  </thead>\n",
       "  <tbody>\n",
       "    <tr>\n",
       "      <th>0</th>\n",
       "      <td>5 stars</td>\n",
       "      <td>142</td>\n",
       "    </tr>\n",
       "    <tr>\n",
       "      <th>1</th>\n",
       "      <td>4 stars</td>\n",
       "      <td>202</td>\n",
       "    </tr>\n",
       "    <tr>\n",
       "      <th>2</th>\n",
       "      <td>4 stars</td>\n",
       "      <td>202</td>\n",
       "    </tr>\n",
       "    <tr>\n",
       "      <th>3</th>\n",
       "      <td>4 stars</td>\n",
       "      <td>202</td>\n",
       "    </tr>\n",
       "    <tr>\n",
       "      <th>4</th>\n",
       "      <td>4 stars</td>\n",
       "      <td>202</td>\n",
       "    </tr>\n",
       "    <tr>\n",
       "      <th>...</th>\n",
       "      <td>...</td>\n",
       "      <td>...</td>\n",
       "    </tr>\n",
       "    <tr>\n",
       "      <th>1243</th>\n",
       "      <td>5 stars</td>\n",
       "      <td>142</td>\n",
       "    </tr>\n",
       "    <tr>\n",
       "      <th>1244</th>\n",
       "      <td>5 stars</td>\n",
       "      <td>142</td>\n",
       "    </tr>\n",
       "    <tr>\n",
       "      <th>1245</th>\n",
       "      <td>0 star</td>\n",
       "      <td>904</td>\n",
       "    </tr>\n",
       "    <tr>\n",
       "      <th>1246</th>\n",
       "      <td>5 stars</td>\n",
       "      <td>142</td>\n",
       "    </tr>\n",
       "    <tr>\n",
       "      <th>1247</th>\n",
       "      <td>0 star</td>\n",
       "      <td>904</td>\n",
       "    </tr>\n",
       "  </tbody>\n",
       "</table>\n",
       "<p>1248 rows × 2 columns</p>\n",
       "</div>"
      ],
      "text/plain": [
       "     Review Rating  Freq\n",
       "0          5 stars   142\n",
       "1          4 stars   202\n",
       "2          4 stars   202\n",
       "3          4 stars   202\n",
       "4          4 stars   202\n",
       "...            ...   ...\n",
       "1243       5 stars   142\n",
       "1244       5 stars   142\n",
       "1245        0 star   904\n",
       "1246       5 stars   142\n",
       "1247        0 star   904\n",
       "\n",
       "[1248 rows x 2 columns]"
      ]
     },
     "execution_count": 1121,
     "metadata": {},
     "output_type": "execute_result"
    }
   ],
   "source": [
    "pbus_money"
   ]
  },
  {
   "cell_type": "code",
   "execution_count": 1122,
   "metadata": {},
   "outputs": [],
   "source": [
    "stat_bus_money = pbus_money[['Review Rating', 'Freq']].sort_values(by = 'Review Rating', ascending = False)\n",
    "\n",
    "# set review rating as index\n",
    "stat_bus_money = stat_bus_money.set_index('Review Rating')\n",
    "\n",
    "#eliminate duplicate index\n",
    "stat_bus_money = stat_bus_money[~stat_bus_money.index.duplicated(keep = 'last')]"
   ]
  },
  {
   "cell_type": "code",
   "execution_count": 1130,
   "metadata": {},
   "outputs": [
    {
     "data": {
      "text/html": [
       "<div>\n",
       "<style scoped>\n",
       "    .dataframe tbody tr th:only-of-type {\n",
       "        vertical-align: middle;\n",
       "    }\n",
       "\n",
       "    .dataframe tbody tr th {\n",
       "        vertical-align: top;\n",
       "    }\n",
       "\n",
       "    .dataframe thead th {\n",
       "        text-align: right;\n",
       "    }\n",
       "</style>\n",
       "<table border=\"1\" class=\"dataframe\">\n",
       "  <thead>\n",
       "    <tr style=\"text-align: right;\">\n",
       "      <th></th>\n",
       "      <th>Freq</th>\n",
       "    </tr>\n",
       "    <tr>\n",
       "      <th>Review Rating</th>\n",
       "      <th></th>\n",
       "    </tr>\n",
       "  </thead>\n",
       "  <tbody>\n",
       "    <tr>\n",
       "      <th>5 stars</th>\n",
       "      <td>142</td>\n",
       "    </tr>\n",
       "    <tr>\n",
       "      <th>4 stars</th>\n",
       "      <td>202</td>\n",
       "    </tr>\n",
       "    <tr>\n",
       "      <th>0 star</th>\n",
       "      <td>904</td>\n",
       "    </tr>\n",
       "  </tbody>\n",
       "</table>\n",
       "</div>"
      ],
      "text/plain": [
       "               Freq\n",
       "Review Rating      \n",
       "5 stars         142\n",
       "4 stars         202\n",
       "0 star          904"
      ]
     },
     "execution_count": 1130,
     "metadata": {},
     "output_type": "execute_result"
    }
   ],
   "source": [
    "stat_bus_money"
   ]
  },
  {
   "cell_type": "code",
   "execution_count": null,
   "metadata": {},
   "outputs": [],
   "source": []
  },
  {
   "cell_type": "code",
   "execution_count": 1139,
   "metadata": {},
   "outputs": [
    {
     "data": {
      "text/html": [
       "<div>\n",
       "<style scoped>\n",
       "    .dataframe tbody tr th:only-of-type {\n",
       "        vertical-align: middle;\n",
       "    }\n",
       "\n",
       "    .dataframe tbody tr th {\n",
       "        vertical-align: top;\n",
       "    }\n",
       "\n",
       "    .dataframe thead th {\n",
       "        text-align: right;\n",
       "    }\n",
       "</style>\n",
       "<table border=\"1\" class=\"dataframe\">\n",
       "  <thead>\n",
       "    <tr style=\"text-align: right;\">\n",
       "      <th></th>\n",
       "      <th>Book Title</th>\n",
       "      <th>Author</th>\n",
       "      <th>Review Rating</th>\n",
       "      <th>Review Count</th>\n",
       "    </tr>\n",
       "  </thead>\n",
       "  <tbody>\n",
       "    <tr>\n",
       "      <th>0</th>\n",
       "      <td>The Holy Word for Morning Revival - The Experi...</td>\n",
       "      <td>Witness Lee</td>\n",
       "      <td>5.0</td>\n",
       "      <td>147</td>\n",
       "    </tr>\n",
       "    <tr>\n",
       "      <th>1</th>\n",
       "      <td>The Friend who Forgives (Tales That Tell the T...</td>\n",
       "      <td>Dan DeWitt</td>\n",
       "      <td>5.0</td>\n",
       "      <td>140</td>\n",
       "    </tr>\n",
       "    <tr>\n",
       "      <th>2</th>\n",
       "      <td>Church Undivided: Exploring God’s Vision for U...</td>\n",
       "      <td>Bob Ingle</td>\n",
       "      <td>5.0</td>\n",
       "      <td>103</td>\n",
       "    </tr>\n",
       "    <tr>\n",
       "      <th>3</th>\n",
       "      <td>Both Sides Now: A True Story of Love, Loss and...</td>\n",
       "      <td>Nancy Sharp</td>\n",
       "      <td>5.0</td>\n",
       "      <td>103</td>\n",
       "    </tr>\n",
       "    <tr>\n",
       "      <th>4</th>\n",
       "      <td>The Holy Word for Morning Revival - Crystalliz...</td>\n",
       "      <td>Witness Lee</td>\n",
       "      <td>5.0</td>\n",
       "      <td>91</td>\n",
       "    </tr>\n",
       "    <tr>\n",
       "      <th>...</th>\n",
       "      <td>...</td>\n",
       "      <td>...</td>\n",
       "      <td>...</td>\n",
       "      <td>...</td>\n",
       "    </tr>\n",
       "    <tr>\n",
       "      <th>1243</th>\n",
       "      <td>The Practice of God's Presence</td>\n",
       "      <td>Unspecified</td>\n",
       "      <td>4.8</td>\n",
       "      <td>51</td>\n",
       "    </tr>\n",
       "    <tr>\n",
       "      <th>1244</th>\n",
       "      <td>Gutsy Girls: Strong Christian Women Who Impact...</td>\n",
       "      <td>Amy L. Sullivan</td>\n",
       "      <td>4.8</td>\n",
       "      <td>51</td>\n",
       "    </tr>\n",
       "    <tr>\n",
       "      <th>1245</th>\n",
       "      <td>The Holy Word for Morning Revival - Crystalliz...</td>\n",
       "      <td>Witness Lee</td>\n",
       "      <td>4.8</td>\n",
       "      <td>51</td>\n",
       "    </tr>\n",
       "    <tr>\n",
       "      <th>1246</th>\n",
       "      <td>How Many Times Do I Have to Tell You?</td>\n",
       "      <td>Unspecified</td>\n",
       "      <td>4.8</td>\n",
       "      <td>51</td>\n",
       "    </tr>\n",
       "    <tr>\n",
       "      <th>1247</th>\n",
       "      <td>Good and Evil</td>\n",
       "      <td>Michael Pearl</td>\n",
       "      <td>0.0</td>\n",
       "      <td>214</td>\n",
       "    </tr>\n",
       "  </tbody>\n",
       "</table>\n",
       "<p>1248 rows × 4 columns</p>\n",
       "</div>"
      ],
      "text/plain": [
       "                                             Book Title           Author  \\\n",
       "0     The Holy Word for Morning Revival - The Experi...      Witness Lee   \n",
       "1     The Friend who Forgives (Tales That Tell the T...       Dan DeWitt   \n",
       "2     Church Undivided: Exploring God’s Vision for U...        Bob Ingle   \n",
       "3     Both Sides Now: A True Story of Love, Loss and...      Nancy Sharp   \n",
       "4     The Holy Word for Morning Revival - Crystalliz...      Witness Lee   \n",
       "...                                                 ...              ...   \n",
       "1243                     The Practice of God's Presence      Unspecified   \n",
       "1244  Gutsy Girls: Strong Christian Women Who Impact...  Amy L. Sullivan   \n",
       "1245  The Holy Word for Morning Revival - Crystalliz...      Witness Lee   \n",
       "1246              How Many Times Do I Have to Tell You?      Unspecified   \n",
       "1247                                      Good and Evil    Michael Pearl   \n",
       "\n",
       "      Review Rating Review Count  \n",
       "0               5.0          147  \n",
       "1               5.0          140  \n",
       "2               5.0          103  \n",
       "3               5.0          103  \n",
       "4               5.0           91  \n",
       "...             ...          ...  \n",
       "1243            4.8           51  \n",
       "1244            4.8           51  \n",
       "1245            4.8           51  \n",
       "1246            4.8           51  \n",
       "1247            0.0          214  \n",
       "\n",
       "[1248 rows x 4 columns]"
      ]
     },
     "execution_count": 1139,
     "metadata": {},
     "output_type": "execute_result"
    }
   ],
   "source": [
    "# FOR RELIGION CATEGORY\n",
    "religion"
   ]
  },
  {
   "cell_type": "code",
   "execution_count": 1132,
   "metadata": {},
   "outputs": [],
   "source": [
    "preligion = religion[['Review Rating']]"
   ]
  },
  {
   "cell_type": "code",
   "execution_count": 1133,
   "metadata": {},
   "outputs": [
    {
     "name": "stderr",
     "output_type": "stream",
     "text": [
      "C:\\Users\\chidiebere\\anaconda3\\lib\\site-packages\\ipykernel_launcher.py:4: SettingWithCopyWarning: \n",
      "A value is trying to be set on a copy of a slice from a DataFrame.\n",
      "Try using .loc[row_indexer,col_indexer] = value instead\n",
      "\n",
      "See the caveats in the documentation: https://pandas.pydata.org/pandas-docs/stable/user_guide/indexing.html#returning-a-view-versus-a-copy\n",
      "  after removing the cwd from sys.path.\n"
     ]
    }
   ],
   "source": [
    "# convert the review ratings to range and rename\n",
    "cut_labels_5 = ['0 star','1 star', '2 stars', '3 stars', '4 stars', '5 stars']\n",
    "cut_bins = [-1, 0.9, 1.9, 2.9, 3.9, 4.9, 5]\n",
    "preligion['Review Rating'] = pd.cut(religion['Review Rating'], bins = cut_bins, labels = cut_labels_5)\n"
   ]
  },
  {
   "cell_type": "code",
   "execution_count": 1134,
   "metadata": {},
   "outputs": [
    {
     "name": "stderr",
     "output_type": "stream",
     "text": [
      "C:\\Users\\chidiebere\\anaconda3\\lib\\site-packages\\ipykernel_launcher.py:2: SettingWithCopyWarning: \n",
      "A value is trying to be set on a copy of a slice from a DataFrame.\n",
      "Try using .loc[row_indexer,col_indexer] = value instead\n",
      "\n",
      "See the caveats in the documentation: https://pandas.pydata.org/pandas-docs/stable/user_guide/indexing.html#returning-a-view-versus-a-copy\n",
      "  \n"
     ]
    }
   ],
   "source": [
    "#add value counts to review ratings\n",
    "preligion['Freq'] = preligion['Review Rating'].map(preligion['Review Rating'].value_counts())"
   ]
  },
  {
   "cell_type": "code",
   "execution_count": 1135,
   "metadata": {},
   "outputs": [
    {
     "data": {
      "text/html": [
       "<div>\n",
       "<style scoped>\n",
       "    .dataframe tbody tr th:only-of-type {\n",
       "        vertical-align: middle;\n",
       "    }\n",
       "\n",
       "    .dataframe tbody tr th {\n",
       "        vertical-align: top;\n",
       "    }\n",
       "\n",
       "    .dataframe thead th {\n",
       "        text-align: right;\n",
       "    }\n",
       "</style>\n",
       "<table border=\"1\" class=\"dataframe\">\n",
       "  <thead>\n",
       "    <tr style=\"text-align: right;\">\n",
       "      <th></th>\n",
       "      <th>Review Rating</th>\n",
       "      <th>Freq</th>\n",
       "    </tr>\n",
       "  </thead>\n",
       "  <tbody>\n",
       "    <tr>\n",
       "      <th>0</th>\n",
       "      <td>5 stars</td>\n",
       "      <td>164</td>\n",
       "    </tr>\n",
       "    <tr>\n",
       "      <th>1</th>\n",
       "      <td>5 stars</td>\n",
       "      <td>164</td>\n",
       "    </tr>\n",
       "    <tr>\n",
       "      <th>2</th>\n",
       "      <td>5 stars</td>\n",
       "      <td>164</td>\n",
       "    </tr>\n",
       "    <tr>\n",
       "      <th>3</th>\n",
       "      <td>5 stars</td>\n",
       "      <td>164</td>\n",
       "    </tr>\n",
       "    <tr>\n",
       "      <th>4</th>\n",
       "      <td>5 stars</td>\n",
       "      <td>164</td>\n",
       "    </tr>\n",
       "    <tr>\n",
       "      <th>...</th>\n",
       "      <td>...</td>\n",
       "      <td>...</td>\n",
       "    </tr>\n",
       "    <tr>\n",
       "      <th>1243</th>\n",
       "      <td>4 stars</td>\n",
       "      <td>927</td>\n",
       "    </tr>\n",
       "    <tr>\n",
       "      <th>1244</th>\n",
       "      <td>4 stars</td>\n",
       "      <td>927</td>\n",
       "    </tr>\n",
       "    <tr>\n",
       "      <th>1245</th>\n",
       "      <td>4 stars</td>\n",
       "      <td>927</td>\n",
       "    </tr>\n",
       "    <tr>\n",
       "      <th>1246</th>\n",
       "      <td>4 stars</td>\n",
       "      <td>927</td>\n",
       "    </tr>\n",
       "    <tr>\n",
       "      <th>1247</th>\n",
       "      <td>0 star</td>\n",
       "      <td>157</td>\n",
       "    </tr>\n",
       "  </tbody>\n",
       "</table>\n",
       "<p>1248 rows × 2 columns</p>\n",
       "</div>"
      ],
      "text/plain": [
       "     Review Rating  Freq\n",
       "0          5 stars   164\n",
       "1          5 stars   164\n",
       "2          5 stars   164\n",
       "3          5 stars   164\n",
       "4          5 stars   164\n",
       "...            ...   ...\n",
       "1243       4 stars   927\n",
       "1244       4 stars   927\n",
       "1245       4 stars   927\n",
       "1246       4 stars   927\n",
       "1247        0 star   157\n",
       "\n",
       "[1248 rows x 2 columns]"
      ]
     },
     "execution_count": 1135,
     "metadata": {},
     "output_type": "execute_result"
    }
   ],
   "source": [
    "preligion"
   ]
  },
  {
   "cell_type": "code",
   "execution_count": 1136,
   "metadata": {},
   "outputs": [],
   "source": [
    "stat_religion = preligion[['Review Rating', 'Freq']].sort_values(by = 'Review Rating', ascending = False)\n",
    "\n",
    "# set review rating as index\n",
    "stat_religion = stat_religion.set_index('Review Rating')\n",
    "\n",
    "#eliminate duplicate index\n",
    "stat_religion = stat_religion[~stat_religion.index.duplicated(keep = 'last')]"
   ]
  },
  {
   "cell_type": "code",
   "execution_count": 1137,
   "metadata": {},
   "outputs": [
    {
     "data": {
      "text/html": [
       "<div>\n",
       "<style scoped>\n",
       "    .dataframe tbody tr th:only-of-type {\n",
       "        vertical-align: middle;\n",
       "    }\n",
       "\n",
       "    .dataframe tbody tr th {\n",
       "        vertical-align: top;\n",
       "    }\n",
       "\n",
       "    .dataframe thead th {\n",
       "        text-align: right;\n",
       "    }\n",
       "</style>\n",
       "<table border=\"1\" class=\"dataframe\">\n",
       "  <thead>\n",
       "    <tr style=\"text-align: right;\">\n",
       "      <th></th>\n",
       "      <th>Freq</th>\n",
       "    </tr>\n",
       "    <tr>\n",
       "      <th>Review Rating</th>\n",
       "      <th></th>\n",
       "    </tr>\n",
       "  </thead>\n",
       "  <tbody>\n",
       "    <tr>\n",
       "      <th>5 stars</th>\n",
       "      <td>164</td>\n",
       "    </tr>\n",
       "    <tr>\n",
       "      <th>4 stars</th>\n",
       "      <td>927</td>\n",
       "    </tr>\n",
       "    <tr>\n",
       "      <th>0 star</th>\n",
       "      <td>157</td>\n",
       "    </tr>\n",
       "  </tbody>\n",
       "</table>\n",
       "</div>"
      ],
      "text/plain": [
       "               Freq\n",
       "Review Rating      \n",
       "5 stars         164\n",
       "4 stars         927\n",
       "0 star          157"
      ]
     },
     "execution_count": 1137,
     "metadata": {},
     "output_type": "execute_result"
    }
   ],
   "source": [
    "stat_religion"
   ]
  },
  {
   "cell_type": "code",
   "execution_count": null,
   "metadata": {},
   "outputs": [],
   "source": []
  },
  {
   "cell_type": "code",
   "execution_count": null,
   "metadata": {},
   "outputs": [],
   "source": []
  },
  {
   "cell_type": "code",
   "execution_count": 1217,
   "metadata": {},
   "outputs": [
    {
     "data": {
      "text/plain": [
       "<Figure size 432x288 with 0 Axes>"
      ]
     },
     "metadata": {},
     "output_type": "display_data"
    }
   ],
   "source": [
    "stat_bus_money\n",
    "plt.savefig('business.png')"
   ]
  },
  {
   "cell_type": "code",
   "execution_count": 1221,
   "metadata": {},
   "outputs": [
    {
     "data": {
      "text/html": [
       "<div>\n",
       "<style scoped>\n",
       "    .dataframe tbody tr th:only-of-type {\n",
       "        vertical-align: middle;\n",
       "    }\n",
       "\n",
       "    .dataframe tbody tr th {\n",
       "        vertical-align: top;\n",
       "    }\n",
       "\n",
       "    .dataframe thead th {\n",
       "        text-align: right;\n",
       "    }\n",
       "</style>\n",
       "<table border=\"1\" class=\"dataframe\">\n",
       "  <thead>\n",
       "    <tr style=\"text-align: right;\">\n",
       "      <th></th>\n",
       "      <th>Freq</th>\n",
       "    </tr>\n",
       "    <tr>\n",
       "      <th>Review Rating</th>\n",
       "      <th></th>\n",
       "    </tr>\n",
       "  </thead>\n",
       "  <tbody>\n",
       "    <tr>\n",
       "      <th>5 stars</th>\n",
       "      <td>142</td>\n",
       "    </tr>\n",
       "    <tr>\n",
       "      <th>4 stars</th>\n",
       "      <td>202</td>\n",
       "    </tr>\n",
       "    <tr>\n",
       "      <th>0 star</th>\n",
       "      <td>904</td>\n",
       "    </tr>\n",
       "  </tbody>\n",
       "</table>\n",
       "</div>"
      ],
      "text/plain": [
       "               Freq\n",
       "Review Rating      \n",
       "5 stars         142\n",
       "4 stars         202\n",
       "0 star          904"
      ]
     },
     "execution_count": 1221,
     "metadata": {},
     "output_type": "execute_result"
    }
   ],
   "source": [
    "stat_bus_money"
   ]
  },
  {
   "cell_type": "code",
   "execution_count": 1218,
   "metadata": {},
   "outputs": [
    {
     "data": {
      "text/plain": [
       "<Figure size 432x288 with 0 Axes>"
      ]
     },
     "metadata": {},
     "output_type": "display_data"
    }
   ],
   "source": [
    "stat_sociology\n",
    "plt.savefig('politics.png')"
   ]
  },
  {
   "cell_type": "code",
   "execution_count": 1222,
   "metadata": {},
   "outputs": [
    {
     "data": {
      "text/html": [
       "<div>\n",
       "<style scoped>\n",
       "    .dataframe tbody tr th:only-of-type {\n",
       "        vertical-align: middle;\n",
       "    }\n",
       "\n",
       "    .dataframe tbody tr th {\n",
       "        vertical-align: top;\n",
       "    }\n",
       "\n",
       "    .dataframe thead th {\n",
       "        text-align: right;\n",
       "    }\n",
       "</style>\n",
       "<table border=\"1\" class=\"dataframe\">\n",
       "  <thead>\n",
       "    <tr style=\"text-align: right;\">\n",
       "      <th></th>\n",
       "      <th>Freq</th>\n",
       "    </tr>\n",
       "    <tr>\n",
       "      <th>Review Rating</th>\n",
       "      <th></th>\n",
       "    </tr>\n",
       "  </thead>\n",
       "  <tbody>\n",
       "    <tr>\n",
       "      <th>5 stars</th>\n",
       "      <td>183</td>\n",
       "    </tr>\n",
       "    <tr>\n",
       "      <th>4 stars</th>\n",
       "      <td>108</td>\n",
       "    </tr>\n",
       "    <tr>\n",
       "      <th>0 star</th>\n",
       "      <td>909</td>\n",
       "    </tr>\n",
       "  </tbody>\n",
       "</table>\n",
       "</div>"
      ],
      "text/plain": [
       "               Freq\n",
       "Review Rating      \n",
       "5 stars         183\n",
       "4 stars         108\n",
       "0 star          909"
      ]
     },
     "execution_count": 1222,
     "metadata": {},
     "output_type": "execute_result"
    }
   ],
   "source": [
    "stat_sociology"
   ]
  },
  {
   "cell_type": "code",
   "execution_count": 1219,
   "metadata": {},
   "outputs": [
    {
     "data": {
      "text/plain": [
       "<Figure size 432x288 with 0 Axes>"
      ]
     },
     "metadata": {},
     "output_type": "display_data"
    }
   ],
   "source": [
    "stat_lit\n",
    "plt.savefig('literature.png')"
   ]
  },
  {
   "cell_type": "code",
   "execution_count": 1223,
   "metadata": {},
   "outputs": [
    {
     "data": {
      "text/html": [
       "<div>\n",
       "<style scoped>\n",
       "    .dataframe tbody tr th:only-of-type {\n",
       "        vertical-align: middle;\n",
       "    }\n",
       "\n",
       "    .dataframe tbody tr th {\n",
       "        vertical-align: top;\n",
       "    }\n",
       "\n",
       "    .dataframe thead th {\n",
       "        text-align: right;\n",
       "    }\n",
       "</style>\n",
       "<table border=\"1\" class=\"dataframe\">\n",
       "  <thead>\n",
       "    <tr style=\"text-align: right;\">\n",
       "      <th></th>\n",
       "      <th>Freq</th>\n",
       "    </tr>\n",
       "    <tr>\n",
       "      <th>Review Rating</th>\n",
       "      <th></th>\n",
       "    </tr>\n",
       "  </thead>\n",
       "  <tbody>\n",
       "    <tr>\n",
       "      <th>5 stars</th>\n",
       "      <td>81</td>\n",
       "    </tr>\n",
       "    <tr>\n",
       "      <th>4 stars</th>\n",
       "      <td>257</td>\n",
       "    </tr>\n",
       "    <tr>\n",
       "      <th>0 star</th>\n",
       "      <td>894</td>\n",
       "    </tr>\n",
       "  </tbody>\n",
       "</table>\n",
       "</div>"
      ],
      "text/plain": [
       "               Freq\n",
       "Review Rating      \n",
       "5 stars          81\n",
       "4 stars         257\n",
       "0 star          894"
      ]
     },
     "execution_count": 1223,
     "metadata": {},
     "output_type": "execute_result"
    }
   ],
   "source": [
    "stat_lit"
   ]
  },
  {
   "cell_type": "code",
   "execution_count": 1220,
   "metadata": {},
   "outputs": [
    {
     "data": {
      "text/plain": [
       "<Figure size 432x288 with 0 Axes>"
      ]
     },
     "metadata": {},
     "output_type": "display_data"
    }
   ],
   "source": [
    "stat_religion\n",
    "plt.savefig('religion.png')"
   ]
  },
  {
   "cell_type": "code",
   "execution_count": 1224,
   "metadata": {},
   "outputs": [
    {
     "data": {
      "text/html": [
       "<div>\n",
       "<style scoped>\n",
       "    .dataframe tbody tr th:only-of-type {\n",
       "        vertical-align: middle;\n",
       "    }\n",
       "\n",
       "    .dataframe tbody tr th {\n",
       "        vertical-align: top;\n",
       "    }\n",
       "\n",
       "    .dataframe thead th {\n",
       "        text-align: right;\n",
       "    }\n",
       "</style>\n",
       "<table border=\"1\" class=\"dataframe\">\n",
       "  <thead>\n",
       "    <tr style=\"text-align: right;\">\n",
       "      <th></th>\n",
       "      <th>Freq</th>\n",
       "    </tr>\n",
       "    <tr>\n",
       "      <th>Review Rating</th>\n",
       "      <th></th>\n",
       "    </tr>\n",
       "  </thead>\n",
       "  <tbody>\n",
       "    <tr>\n",
       "      <th>5 stars</th>\n",
       "      <td>164</td>\n",
       "    </tr>\n",
       "    <tr>\n",
       "      <th>4 stars</th>\n",
       "      <td>927</td>\n",
       "    </tr>\n",
       "    <tr>\n",
       "      <th>0 star</th>\n",
       "      <td>157</td>\n",
       "    </tr>\n",
       "  </tbody>\n",
       "</table>\n",
       "</div>"
      ],
      "text/plain": [
       "               Freq\n",
       "Review Rating      \n",
       "5 stars         164\n",
       "4 stars         927\n",
       "0 star          157"
      ]
     },
     "execution_count": 1224,
     "metadata": {},
     "output_type": "execute_result"
    }
   ],
   "source": [
    "stat_religion"
   ]
  },
  {
   "cell_type": "code",
   "execution_count": null,
   "metadata": {},
   "outputs": [],
   "source": []
  }
 ],
 "metadata": {
  "kernelspec": {
   "display_name": "Python 3",
   "language": "python",
   "name": "python3"
  },
  "language_info": {
   "codemirror_mode": {
    "name": "ipython",
    "version": 3
   },
   "file_extension": ".py",
   "mimetype": "text/x-python",
   "name": "python",
   "nbconvert_exporter": "python",
   "pygments_lexer": "ipython3",
   "version": "3.7.6"
  }
 },
 "nbformat": 4,
 "nbformat_minor": 4
}
